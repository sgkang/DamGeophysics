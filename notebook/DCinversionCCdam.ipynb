{
 "cells": [
  {
   "cell_type": "code",
   "execution_count": 1,
   "metadata": {
    "collapsed": false
   },
   "outputs": [
    {
     "name": "stdout",
     "output_type": "stream",
     "text": [
      "Populating the interactive namespace from numpy and matplotlib\n"
     ]
    }
   ],
   "source": [
    "import sys\n",
    "sys.path.append(\"../codes/\")\n",
    "from Readfiles import getFnames\n",
    "from DCdata import readReservoirDC\n",
    "%pylab inline"
   ]
  },
  {
   "cell_type": "code",
   "execution_count": 2,
   "metadata": {
    "collapsed": false
   },
   "outputs": [],
   "source": [
    "from SimPEG.EM.Static import DC\n",
    "from SimPEG import EM\n",
    "from SimPEG import Mesh"
   ]
  },
  {
   "cell_type": "markdown",
   "metadata": {},
   "source": [
    "Read DC data"
   ]
  },
  {
   "cell_type": "code",
   "execution_count": 3,
   "metadata": {
    "collapsed": false
   },
   "outputs": [
    {
     "ename": "TypeError",
     "evalue": "plot_pseudoSection() got an unexpected keyword argument 'dtype'",
     "output_type": "error",
     "traceback": [
      "\u001b[0;31m---------------------------------------------------------------------------\u001b[0m",
      "\u001b[0;31mTypeError\u001b[0m                                 Traceback (most recent call last)",
      "\u001b[0;32m<ipython-input-3-8b6282311090>\u001b[0m in \u001b[0;36m<module>\u001b[0;34m()\u001b[0m\n\u001b[1;32m      3\u001b[0m \u001b[0mdobsAppres\u001b[0m \u001b[0;34m=\u001b[0m \u001b[0msurvey\u001b[0m\u001b[0;34m.\u001b[0m\u001b[0mdobs\u001b[0m\u001b[0;34m\u001b[0m\u001b[0m\n\u001b[1;32m      4\u001b[0m \u001b[0mfig\u001b[0m\u001b[0;34m,\u001b[0m \u001b[0max\u001b[0m \u001b[0;34m=\u001b[0m \u001b[0mplt\u001b[0m\u001b[0;34m.\u001b[0m\u001b[0msubplots\u001b[0m\u001b[0;34m(\u001b[0m\u001b[0;36m1\u001b[0m\u001b[0;34m,\u001b[0m\u001b[0;36m1\u001b[0m\u001b[0;34m,\u001b[0m \u001b[0mfigsize\u001b[0m \u001b[0;34m=\u001b[0m \u001b[0;34m(\u001b[0m\u001b[0;36m10\u001b[0m\u001b[0;34m,\u001b[0m \u001b[0;36m2\u001b[0m\u001b[0;34m)\u001b[0m\u001b[0;34m)\u001b[0m\u001b[0;34m\u001b[0m\u001b[0m\n\u001b[0;32m----> 5\u001b[0;31m \u001b[0mdat\u001b[0m \u001b[0;34m=\u001b[0m \u001b[0mEM\u001b[0m\u001b[0;34m.\u001b[0m\u001b[0mStatic\u001b[0m\u001b[0;34m.\u001b[0m\u001b[0mUtils\u001b[0m\u001b[0;34m.\u001b[0m\u001b[0mStaticUtils\u001b[0m\u001b[0;34m.\u001b[0m\u001b[0mplot_pseudoSection\u001b[0m\u001b[0;34m(\u001b[0m\u001b[0msurvey\u001b[0m\u001b[0;34m,\u001b[0m \u001b[0max\u001b[0m\u001b[0;34m,\u001b[0m \u001b[0mdtype\u001b[0m\u001b[0;34m=\u001b[0m\u001b[0;34m'volt'\u001b[0m\u001b[0;34m,\u001b[0m \u001b[0msameratio\u001b[0m\u001b[0;34m=\u001b[0m\u001b[0mFalse\u001b[0m\u001b[0;34m)\u001b[0m\u001b[0;34m\u001b[0m\u001b[0m\n\u001b[0m\u001b[1;32m      6\u001b[0m \u001b[0mcb\u001b[0m \u001b[0;34m=\u001b[0m \u001b[0mdat\u001b[0m\u001b[0;34m[\u001b[0m\u001b[0;36m2\u001b[0m\u001b[0;34m]\u001b[0m\u001b[0;34m\u001b[0m\u001b[0m\n\u001b[1;32m      7\u001b[0m \u001b[0mcb\u001b[0m\u001b[0;34m.\u001b[0m\u001b[0mset_label\u001b[0m\u001b[0;34m(\u001b[0m\u001b[0;34m\"Apprent resistivity (ohm-m)\"\u001b[0m\u001b[0;34m)\u001b[0m\u001b[0;34m\u001b[0m\u001b[0m\n",
      "\u001b[0;31mTypeError\u001b[0m: plot_pseudoSection() got an unexpected keyword argument 'dtype'"
     ]
    },
    {
     "data": {
      "image/png": "[encoded data removed]",
      "text/plain": [
       "<matplotlib.figure.Figure at 0x1045a83d0>"
      ]
     },
     "metadata": {},
     "output_type": "display_data"
    }
   ],
   "source": [
    "fname = \"../data/ChungCheonDC/201507210000001.apr\"\n",
    "survey = readReservoirDC(fname)\n",
    "dobsAppres = survey.dobs\n",
    "fig, ax = plt.subplots(1,1, figsize = (10, 2))\n",
    "dat = EM.Static.Utils.StaticUtils.plot_pseudoSection(survey, ax, dtype='volt', sameratio=False)\n",
    "cb = dat[2]\n",
    "cb.set_label(\"Apprent resistivity (ohm-m)\")\n",
    "geom = np.hstack(dat[3])\n",
    "dobsDC = dobsAppres * geom "
   ]
  },
  {
   "cell_type": "code",
   "execution_count": null,
   "metadata": {
    "collapsed": true
   },
   "outputs": [],
   "source": [
    "# problem = DC.Problem2D_CC(mesh)\n",
    "cs = 2.5\n",
    "npad = 6\n",
    "hx = [(cs,npad, -1.3),(cs,160),(cs,npad, 1.3)]\n",
    "hy = [(cs,npad, -1.3),(cs,20)]\n",
    "mesh = Mesh.TensorMesh([hx, hy])\n",
    "mesh = Mesh.TensorMesh([hx, hy],x0=[-mesh.hx[:6].sum()-0.25, -mesh.hy.sum()])"
   ]
  },
  {
   "cell_type": "code",
   "execution_count": null,
   "metadata": {
    "collapsed": true
   },
   "outputs": [],
   "source": [
    "def from3Dto2Dsurvey(survey):\n",
    "    srcLists2D = []\n",
    "    nSrc = len(survey.srcList)\n",
    "\n",
    "    for iSrc in range (nSrc):\n",
    "        src = survey.srcList[iSrc]\n",
    "        locsM = np.c_[src.rxList[0].locs[0][:,0], np.ones_like(src.rxList[0].locs[0][:,0])*-0.75] \n",
    "        locsN = np.c_[src.rxList[0].locs[1][:,0], np.ones_like(src.rxList[0].locs[1][:,0])*-0.75] \n",
    "        rx = DC.Rx.Dipole_ky(locsM, locsN)\n",
    "        locA = np.r_[src.loc[0][0], -0.75]\n",
    "        locB = np.r_[src.loc[1][0], -0.75]\n",
    "        src = DC.Src.Dipole([rx], locA, locB)\n",
    "        srcLists2D.append(src)\n",
    "    survey2D = DC.Survey_ky(srcLists2D)\n",
    "    return survey2D"
   ]
  },
  {
   "cell_type": "code",
   "execution_count": null,
   "metadata": {
    "collapsed": true
   },
   "outputs": [],
   "source": [
    "from SimPEG import (Mesh, Maps, Utils, DataMisfit, Regularization,\n",
    "                    Optimization, Inversion, InvProblem, Directives)"
   ]
  },
  {
   "cell_type": "code",
   "execution_count": null,
   "metadata": {
    "collapsed": true
   },
   "outputs": [],
   "source": [
    "mapping = Maps.ExpMap(mesh)\n",
    "survey2D = from3Dto2Dsurvey(survey)\n",
    "problem = DC.Problem2D_N(mesh, mapping=mapping)\n",
    "problem.pair(survey2D)\n",
    "m0 = np.ones(mesh.nC)*np.log(1e-2)"
   ]
  },
  {
   "cell_type": "code",
   "execution_count": null,
   "metadata": {
    "collapsed": false
   },
   "outputs": [],
   "source": [
    "from ipywidgets import interact\n",
    "nSrc = len(survey2D.srcList)\n",
    "def foo(isrc):\n",
    "    figsize(10, 5)\n",
    "    mesh.plotImage(np.ones(mesh.nC)*np.nan, gridOpts={\"color\":\"k\", \"alpha\":0.5}, grid=True)\n",
    "#     isrc=0\n",
    "    src = survey2D.srcList[isrc]\n",
    "    plt.plot(src.loc[0][0], src.loc[0][1], 'bo')\n",
    "    plt.plot(src.loc[1][0], src.loc[1][1], 'ro')\n",
    "    locsM = src.rxList[0].locs[0]\n",
    "    locsN = src.rxList[0].locs[1]\n",
    "    plt.plot(locsM[:,0], locsM[:,1], 'ko')\n",
    "    plt.plot(locsN[:,0], locsN[:,1], 'go')\n",
    "    plt.gca().set_aspect('equal', adjustable='box')\n",
    "    \n",
    "interact(foo, isrc=(0, nSrc-1, 1))"
   ]
  },
  {
   "cell_type": "code",
   "execution_count": null,
   "metadata": {
    "collapsed": true
   },
   "outputs": [],
   "source": [
    "pred = survey2D.dpred(m0)"
   ]
  },
  {
   "cell_type": "code",
   "execution_count": null,
   "metadata": {
    "collapsed": true
   },
   "outputs": [],
   "source": [
    "# data_anal = []\n",
    "# nSrc = len(survey.srcList)\n",
    "# for isrc in range(nSrc):\n",
    "#     src = survey.srcList[isrc]    \n",
    "#     locA = src.loc[0]\n",
    "#     locB = src.loc[1]\n",
    "#     locsM = src.rxList[0].locs[0]\n",
    "#     locsN = src.rxList[0].locs[1]\n",
    "#     rxloc=[locsM, locsN]\n",
    "#     a = EM.Analytics.DCAnalyticHalf(locA, rxloc, 1e-3, earth_type=\"halfspace\")\n",
    "#     b = EM.Analytics.DCAnalyticHalf(locB, rxloc, 1e-3, earth_type=\"halfspace\")\n",
    "#     data_anal.append(a-b)\n",
    "# data_anal = np.hstack(data_anal)"
   ]
  },
  {
   "cell_type": "code",
   "execution_count": null,
   "metadata": {
    "collapsed": false
   },
   "outputs": [],
   "source": [
    "survey.dobs = pred\n",
    "fig, ax = plt.subplots(1,1, figsize = (10, 2))\n",
    "dat = EM.Static.Utils.StaticUtils.plot_pseudoSection(survey, ax, dtype='appr', sameratio=False, scale=\"linear\", clim=(0, 200))"
   ]
  },
  {
   "cell_type": "code",
   "execution_count": null,
   "metadata": {
    "collapsed": false
   },
   "outputs": [],
   "source": [
    "out = hist(np.log10(abs(dobsDC)), bins = 100)"
   ]
  },
  {
   "cell_type": "code",
   "execution_count": null,
   "metadata": {
    "collapsed": false
   },
   "outputs": [],
   "source": [
    "print np.log10(abs(dobsDC))"
   ]
  },
  {
   "cell_type": "code",
   "execution_count": null,
   "metadata": {
    "collapsed": true
   },
   "outputs": [],
   "source": [
    "weight =  1./abs(mesh.gridCC[:,1])**1.5"
   ]
  },
  {
   "cell_type": "code",
   "execution_count": null,
   "metadata": {
    "collapsed": false
   },
   "outputs": [],
   "source": [
    "mesh.plotImage(np.log10(weight))"
   ]
  },
  {
   "cell_type": "code",
   "execution_count": null,
   "metadata": {
    "collapsed": false
   },
   "outputs": [],
   "source": [
    "survey2D.dobs = dobsDC\n",
    "survey2D.eps = 10**(-2.3)\n",
    "survey2D.std = 0.02\n",
    "dmisfit = DataMisfit.l2_DataMisfit(survey2D)\n",
    "regmap = Maps.IdentityMap(nP=int(mesh.nC))\n",
    "reg = Regularization.Simple(mesh,mapping=regmap,cell_weights=weight)\n",
    "# ITERATION OF inversion\n",
    "opt = Optimization.InexactGaussNewton(maxIter=15)\n",
    "\n",
    "invProb = InvProblem.BaseInvProblem(dmisfit, reg, opt)\n",
    "# Create an inversion object\n",
    "beta = Directives.BetaSchedule(coolingFactor=5, coolingRate=2)\n",
    "betaest = Directives.BetaEstimate_ByEig(beta0_ratio=1e0)\n",
    "inv = Inversion.BaseInversion(invProb, directiveList=[beta, betaest])\n",
    "problem.counter = opt.counter = Utils.Counter()\n",
    "opt.LSshorten = 0.5\n",
    "opt.remember('xc')\n",
    "mopt = inv.run(m0)"
   ]
  },
  {
   "cell_type": "code",
   "execution_count": null,
   "metadata": {
    "collapsed": true
   },
   "outputs": [],
   "source": [
    "xc = opt.recall(\"xc\")"
   ]
  },
  {
   "cell_type": "code",
   "execution_count": null,
   "metadata": {
    "collapsed": false
   },
   "outputs": [],
   "source": [
    "fig, ax = plt.subplots(1,1, figsize = (10, 1.5))\n",
    "iteration = 8\n",
    "sigma = mapping*xc[iteration]\n",
    "dat = mesh.plotImage(1./sigma, clim=(10, 250),grid=False, ax=ax, pcolorOpts={\"cmap\":\"jet\"})\n",
    "ax.set_ylim(-50, 0)\n",
    "ax.set_xlim(-10, 290)"
   ]
  },
  {
   "cell_type": "code",
   "execution_count": null,
   "metadata": {
    "collapsed": false
   },
   "outputs": [],
   "source": [
    "print np.log10(sigma).min(), np.log10(sigma).max()"
   ]
  },
  {
   "cell_type": "code",
   "execution_count": null,
   "metadata": {
    "collapsed": false
   },
   "outputs": [],
   "source": [
    "survey.dobs = invProb.dpred\n",
    "fig, ax = plt.subplots(1,1, figsize = (10, 2))\n",
    "dat = EM.Static.Utils.StaticUtils.plot_pseudoSection(survey, ax, dtype='appr', sameratio=False, clim=(40, 170))"
   ]
  },
  {
   "cell_type": "code",
   "execution_count": null,
   "metadata": {
    "collapsed": false
   },
   "outputs": [],
   "source": [
    "survey.dobs = dobsDC\n",
    "fig, ax = plt.subplots(1,1, figsize = (10, 2))\n",
    "dat = EM.Static.Utils.StaticUtils.plot_pseudoSection(survey, ax, dtype='appr', sameratio=False, clim=(40, 170))"
   ]
  },
  {
   "cell_type": "code",
   "execution_count": null,
   "metadata": {
    "collapsed": false
   },
   "outputs": [],
   "source": [
    "survey.dobs = abs(dmisfit.Wd*(dobsDC-invProb.dpred))\n",
    "fig, ax = plt.subplots(1,1, figsize = (10, 2))\n",
    "dat = EM.Static.Utils.StaticUtils.plot_pseudoSection(survey, ax, dtype='volt', sameratio=False, clim=(0, 2))"
   ]
  },
  {
   "cell_type": "code",
   "execution_count": null,
   "metadata": {
    "collapsed": false
   },
   "outputs": [],
   "source": [
    "# sigma = np.ones(mesh.nC)\n",
    "modelname = \"sigma0721re.npy\"\n",
    "np.save(modelname, sigma)"
   ]
  },
  {
   "cell_type": "code",
   "execution_count": null,
   "metadata": {
    "collapsed": true
   },
   "outputs": [],
   "source": []
  },
  {
   "cell_type": "code",
   "execution_count": null,
   "metadata": {
    "collapsed": true
   },
   "outputs": [],
   "source": []
  },
  {
   "cell_type": "code",
   "execution_count": null,
   "metadata": {
    "collapsed": true
   },
   "outputs": [],
   "source": []
  }
 ],
 "metadata": {
  "kernelspec": {
   "display_name": "Python [default]",
   "language": "python",
   "name": "python2"
  },
  "language_info": {
   "codemirror_mode": {
    "name": "ipython",
    "version": 2
   },
   "file_extension": ".py",
   "mimetype": "text/x-python",
   "name": "python",
   "nbconvert_exporter": "python",
   "pygments_lexer": "ipython2",
   "version": "2.7.12"
  }
 },
 "nbformat": 4,
 "nbformat_minor": 0
}
