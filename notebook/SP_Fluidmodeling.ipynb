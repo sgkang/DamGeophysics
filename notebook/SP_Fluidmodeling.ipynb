{
 "cells": [
  {
   "cell_type": "code",
   "execution_count": 1,
   "metadata": {
    "collapsed": false
   },
   "outputs": [
    {
     "ename": "ImportError",
     "evalue": "No module named simpegSP",
     "output_type": "error",
     "traceback": [
      "\u001b[0;31m---------------------------------------------------------------------------\u001b[0m",
      "\u001b[0;31mImportError\u001b[0m                               Traceback (most recent call last)",
      "\u001b[0;32m<ipython-input-1-dd1cab72e422>\u001b[0m in \u001b[0;36m<module>\u001b[0;34m()\u001b[0m\n\u001b[0;32m----> 1\u001b[0;31m \u001b[0;32mimport\u001b[0m \u001b[0msimpegSP\u001b[0m \u001b[0;32mas\u001b[0m \u001b[0mSP\u001b[0m\u001b[0;34m\u001b[0m\u001b[0m\n\u001b[0m\u001b[1;32m      2\u001b[0m \u001b[0;32mfrom\u001b[0m \u001b[0mSimPEG\u001b[0m \u001b[0;32mimport\u001b[0m \u001b[0mMesh\u001b[0m\u001b[0;34m,\u001b[0m \u001b[0mnp\u001b[0m\u001b[0;34m\u001b[0m\u001b[0m\n\u001b[1;32m      3\u001b[0m \u001b[0;32mfrom\u001b[0m \u001b[0mSimPEG\u001b[0m\u001b[0;34m.\u001b[0m\u001b[0mEM\u001b[0m \u001b[0;32mimport\u001b[0m \u001b[0mStatic\u001b[0m\u001b[0;34m\u001b[0m\u001b[0m\n\u001b[1;32m      4\u001b[0m \u001b[0mget_ipython\u001b[0m\u001b[0;34m(\u001b[0m\u001b[0;34m)\u001b[0m\u001b[0;34m.\u001b[0m\u001b[0mmagic\u001b[0m\u001b[0;34m(\u001b[0m\u001b[0;34mu'pylab inline'\u001b[0m\u001b[0;34m)\u001b[0m\u001b[0;34m\u001b[0m\u001b[0m\n",
      "\u001b[0;31mImportError\u001b[0m: No module named simpegSP"
     ]
    }
   ],
   "source": [
    "import simpegSP as SP\n",
    "from SimPEG import Mesh, np\n",
    "from SimPEG.EM import Static\n",
    "%pylab inline"
   ]
  },
  {
   "cell_type": "code",
   "execution_count": null,
   "metadata": {
    "collapsed": false
   },
   "outputs": [],
   "source": [
    "# workdir = \"/Documents and Settings/\"\n",
    "workdir = \"C:/00PLAN_UBC/seepageModeling/Cheong_dam/\"\n",
    "fname = \"drawdown(3500000sec).csv\"\n",
    "#fname = \"state(WL40.20m).csv\"\n",
    "fluiddata = SP.Utils.readSeepageModel(workdir+fname)"
   ]
  },
  {
   "cell_type": "code",
   "execution_count": null,
   "metadata": {
    "collapsed": true
   },
   "outputs": [],
   "source": [
    "xyz =  fluiddata[\"xyz\"]\n",
    "h =  fluiddata[\"h\"]\n",
    "Sw =  fluiddata[\"Sw\"]\n",
    "Kx =  fluiddata[\"Kx\"]\n",
    "Ky =  fluiddata[\"Ky\"]\n",
    "P = fluiddata[\"P\"]\n",
    "Ux =  fluiddata[\"Ux\"]\n",
    "Uy =  fluiddata[\"Uy\"]\n",
    "Gradx = fluiddata[\"Gradx\"]\n",
    "Grady = fluiddata[\"Grady\"]\n",
    "\n",
    "Uy[Uy>1e10] = np.nan\n",
    "mesh = fluiddata[\"mesh\"]\n",
    "xsurf, ysurf, yup = fluiddata[\"xsurf\"], fluiddata[\"ysurf\"], fluiddata[\"yup\"]\n",
    "hcc = fluiddata[\"hcc\"]\n",
    "actind = fluiddata[\"actind\"]\n",
    "waterind = fluiddata[\"waterind\"]"
   ]
  },
  {
   "cell_type": "code",
   "execution_count": null,
   "metadata": {
    "collapsed": false
   },
   "outputs": [],
   "source": [
    "mesh.plotGrid()\n",
    "plt.gca().set_aspect('equal', adjustable='box')"
   ]
  },
  {
   "cell_type": "code",
   "execution_count": null,
   "metadata": {
    "collapsed": false
   },
   "outputs": [],
   "source": [
    "fig = plt.figure(figsize = (12, 5))\n",
    "ax = plt.subplot(111)\n",
    "dat = Static.Utils.plot2Ddata(xyz, h, ax=ax, ncontour=30, contourOpts={\"cmap\":\"viridis\"})\n",
    "ax.fill_between(xsurf, ysurf, yup, facecolor='white', edgecolor=\"white\")\n",
    "\n",
    "ax.set_xlim(50, 130)\n",
    "ax.set_ylim(25, 44)\n",
    "cb = plt.colorbar(dat[1], orientation=\"horizontal\")\n",
    "cb.set_label(\"Total head (m)\")"
   ]
  },
  {
   "cell_type": "code",
   "execution_count": null,
   "metadata": {
    "collapsed": true
   },
   "outputs": [],
   "source": [
    "rho = np.ones(mesh.nC)*1e8\n",
    "rho[actind] = 200.\n",
    "rho[waterind] = 0.33"
   ]
  },
  {
   "cell_type": "code",
   "execution_count": null,
   "metadata": {
    "collapsed": true
   },
   "outputs": [],
   "source": [
    "tempx = np.r_[0. , 82, 125, 0., 0. ]\n",
    "tempy = np.r_[40., 40, 27.5 , 27.5, 40.]\n",
    "inds = SP.Utils.PolygonInd(mesh, np.c_[tempx, tempy])\n",
    "satinds = (inds) & (actind)\n",
    "# L = np.zeros(mesh.nC)\n",
    "L = np.ones(mesh.nC)*0.\n",
    "L[satinds] = 2.5*1e-4"
   ]
  },
  {
   "cell_type": "code",
   "execution_count": null,
   "metadata": {
    "collapsed": true
   },
   "outputs": [],
   "source": [
    "# coreind = SP.Utils.PolygonInd(mesh, np.c_[tempx, tempy])\n",
    "# rho[coreind] = res_core"
   ]
  },
  {
   "cell_type": "code",
   "execution_count": null,
   "metadata": {
    "collapsed": false
   },
   "outputs": [],
   "source": [
    "plt.plot(tempx, tempy, 'k-')"
   ]
  },
  {
   "cell_type": "code",
   "execution_count": null,
   "metadata": {
    "collapsed": false
   },
   "outputs": [],
   "source": [
    "fig = plt.figure(figsize = (12, 5))\n",
    "ax = plt.subplot(111)\n",
    "dat = Static.Utils.plot2Ddata(xyz, Kx*Ux, ax=ax, ncontour=30, contourOpts={\"cmap\":\"viridis\"})\n",
    "ax.fill_between(xsurf, ysurf, yup, facecolor='white', edgecolor=\"white\")\n",
    "\n",
    "ax.set_xlim(50, 130)\n",
    "ax.set_ylim(25, 44)\n",
    "cb = plt.colorbar(dat[1], orientation=\"horizontal\")\n",
    "cb.set_label(\"Total head (m)\")"
   ]
  },
  {
   "cell_type": "code",
   "execution_count": null,
   "metadata": {
    "collapsed": false
   },
   "outputs": [],
   "source": [
    "fig = plt.figure(figsize = (12, 5))\n",
    "ax = plt.subplot(111)\n",
    "dat = Static.Utils.plot2Ddata(xyz, Ky*Uy, ax=ax, ncontour=30, contourOpts={\"cmap\":\"viridis\"})\n",
    "ax.fill_between(xsurf, ysurf, yup, facecolor='white', edgecolor=\"white\")\n",
    "\n",
    "ax.set_xlim(50, 130)\n",
    "ax.set_ylim(25, 44)\n",
    "cb = plt.colorbar(dat[1], orientation=\"horizontal\")\n",
    "cb.set_label(\"Total head (m)\")"
   ]
  },
  {
   "cell_type": "code",
   "execution_count": null,
   "metadata": {
    "collapsed": false
   },
   "outputs": [],
   "source": [
    "fig = plt.figure(figsize = (12, 5))\n",
    "ax = plt.subplot(111)\n",
    "dat = Static.Utils.plot2Ddata(xyz, np.log10(Ux*h), ax=ax, ncontour=30, contourOpts={\"cmap\":\"viridis\"})\n",
    "ax.fill_between(xsurf, ysurf, yup, facecolor='white', edgecolor=\"white\")\n",
    "\n",
    "ax.set_xlim(50, 130)\n",
    "ax.set_ylim(25, 44)\n",
    "cb = plt.colorbar(dat[1], orientation=\"horizontal\")\n",
    "cb.set_label(\"Total head (m)\")"
   ]
  },
  {
   "cell_type": "code",
   "execution_count": null,
   "metadata": {
    "collapsed": true
   },
   "outputs": [],
   "source": [
    "rho = np.ones(mesh.nC)*1e8\n",
    "rho[actind] = 200.\n",
    "rho[waterind] = 0.33"
   ]
  },
  {
   "cell_type": "code",
   "execution_count": null,
   "metadata": {
    "collapsed": false
   },
   "outputs": [],
   "source": [
    "fig = plt.figure(figsize = (12, 5))\n",
    "ax = plt.subplot(111)\n",
    "dat = Static.Utils.plot2Ddata(xyz, -np.c_[Gradx, Grady], vec=True, ax=ax, ncontour=30, contourOpts={\"cmap\":\"RdPu\"})\n",
    "ax.fill_between(xsurf, ysurf, yup, facecolor='white', edgecolor=\"white\")\n",
    "\n",
    "ax.set_xlim(50, 130)\n",
    "ax.set_ylim(25, 44)\n",
    "cb = plt.colorbar(dat[1], orientation=\"horizontal\")\n",
    "cb.set_label(\"Gradient of total head (m)\")"
   ]
  },
  {
   "cell_type": "code",
   "execution_count": null,
   "metadata": {
    "collapsed": false
   },
   "outputs": [],
   "source": [
    "fig = plt.figure(figsize = (12, 5))\n",
    "ax = plt.subplot(111)\n",
    "dat = Static.Utils.plot2Ddata(xyz, np.c_[Ux, Uy], vec=True, ax=ax, ncontour=30, contourOpts={\"cmap\":\"jet\"})\n",
    "ax.fill_between(xsurf, ysurf, yup, facecolor='white', edgecolor=\"white\")\n",
    "\n",
    "ax.set_xlim(50, 130)\n",
    "ax.set_ylim(25, 44)\n",
    "cb = plt.colorbar(dat[1], orientation=\"horizontal\")\n",
    "cb.set_label(\"Gradient of total head (m)\")"
   ]
  },
  {
   "cell_type": "code",
   "execution_count": null,
   "metadata": {
    "collapsed": false
   },
   "outputs": [],
   "source": [
    "mesh.plotImage(np.log10(1./rho), pcolorOpts={\"cmap\":\"viridis\"})"
   ]
  },
  {
   "cell_type": "code",
   "execution_count": null,
   "metadata": {
    "collapsed": true
   },
   "outputs": [],
   "source": []
  },
  {
   "cell_type": "code",
   "execution_count": null,
   "metadata": {
    "collapsed": true
   },
   "outputs": [],
   "source": [
    "tempx = np.r_[0. , 82, 125, 0., 0. ]\n",
    "tempy = np.r_[40., 40, 27.5 , 27.5, 40.]\n",
    "inds = SP.Utils.PolygonInd(mesh, np.c_[tempx, tempy])\n",
    "satinds = (inds) & (actind)\n",
    "# L = np.zeros(mesh.nC)\n",
    "L = np.ones(mesh.nC)*0.\n",
    "L[satinds] = 2.5*1e-4"
   ]
  },
  {
   "cell_type": "code",
   "execution_count": null,
   "metadata": {
    "collapsed": false
   },
   "outputs": [],
   "source": [
    "mesh.plotImage(satinds, pcolorOpts={\"cmap\":\"viridis\"})"
   ]
  },
  {
   "cell_type": "code",
   "execution_count": null,
   "metadata": {
    "collapsed": true
   },
   "outputs": [],
   "source": [
    "from SimPEG import Utils"
   ]
  },
  {
   "cell_type": "code",
   "execution_count": null,
   "metadata": {
    "collapsed": true
   },
   "outputs": [],
   "source": [
    "airind = ~np.logical_or(actind, waterind)\n",
    "topo = np.c_[xsurf, ysurf]\n",
    "pts = mesh.vectorCCx[np.logical_and(mesh.vectorCCx>85, mesh.vectorCCx<120)]\n",
    "locs = SP.Utils.drapeTopotoLoc(mesh, topo, pts)\n",
    "locM = locs.copy()\n",
    "locN = locs.copy()\n",
    "locN = np.c_[np.ones(locs.shape[0])*locM[0,0], np.ones(locs.shape[0])*locM[0,1]]"
   ]
  },
  {
   "cell_type": "code",
   "execution_count": null,
   "metadata": {
    "collapsed": false
   },
   "outputs": [],
   "source": [
    "fig = plt.figure(figsize = (12*1.5, 5*1.5))\n",
    "ax = plt.subplot(111)\n",
    "sigma = 1./rho\n",
    "sigma[airind] = np.nan\n",
    "dat = mesh.plotImage(np.log10(sigma), grid=True, pcolorOpts={\"cmap\":\"viridis\"}, ax=ax, clim=(-3, -2))\n",
    "ax.plot(locM[:,0], locM[:,1], 'go')\n",
    "ax.plot(locN[:,0], locN[:,1], 'ro', ms=5)\n",
    "ax.plot(topo[:,0], topo[:,1], 'w-')\n",
    "ax.plot(tempx, tempy, 'w-', lw=2)\n",
    "ax.set_xlim(50, 130)\n",
    "ax.set_ylim(25, 44)\n",
    "# ax.plot(128, 27, 'wo', ms=5)\n",
    "plt.gca().set_aspect('equal', adjustable='box')\n",
    "cb = plt.colorbar(dat[0], orientation=\"horizontal\")"
   ]
  },
  {
   "cell_type": "code",
   "execution_count": null,
   "metadata": {
    "collapsed": false
   },
   "outputs": [],
   "source": [
    "fig = plt.figure(figsize = (12*1.5, 5*1.5))\n",
    "ax = plt.subplot(111)\n",
    "sigma = 1./rho\n",
    "sigma[airind] = np.nan\n",
    "mesh.plotImage(L, grid=True, pcolorOpts={\"cmap\":\"viridis\"}, ax=ax)\n",
    "ax.plot(locM[:,0], locM[:,1], 'go')\n",
    "ax.plot(locN[:,0], locN[:,1], 'r.', ms=5)\n",
    "ax.plot(topo[:,0], topo[:,1], 'w-')\n",
    "ax.plot(tempx, tempy, 'w-', lw=2)\n",
    "ax.set_xlim(50, 130)\n",
    "ax.set_ylim(25, 44)\n",
    "plt.gca().set_aspect('equal', adjustable='box')"
   ]
  },
  {
   "cell_type": "code",
   "execution_count": null,
   "metadata": {
    "collapsed": true
   },
   "outputs": [],
   "source": [
    "prob = SP.Problem_CC(mesh, rho=rho)\n",
    "rx = SP.Rx.Dipole(locM, locN)\n",
    "src = SP.Src.StreamingCurrents([rx], L=L, mesh=mesh)\n",
    "survey = SP.Survey([src])\n",
    "survey.pair(prob)"
   ]
  },
  {
   "cell_type": "code",
   "execution_count": null,
   "metadata": {
    "collapsed": true
   },
   "outputs": [],
   "source": [
    "f = prob.fields(hcc)\n",
    "data = survey.dpred(hcc, f=f)"
   ]
  },
  {
   "cell_type": "code",
   "execution_count": null,
   "metadata": {
    "collapsed": false
   },
   "outputs": [],
   "source": [
    "fig = plt.figure(figsize = (12, 5))\n",
    "ax = plt.subplot(111)\n",
    "temp = hcc.copy()\n",
    "temp[airind] = np.nan\n",
    "dat = mesh.plotImage(temp, grid=False, pcolorOpts={\"cmap\":\"viridis\"}, ax=ax, clim=(h.min(), h.max()) )\n",
    "ax.plot(locM[:,0], locM[:,1], 'go')\n",
    "ax.plot(locN[:,0], locN[:,1], 'r.', ms=5)\n",
    "ax.plot(topo[:,0], topo[:,1], 'r-')\n",
    "ax.set_xlim(50, 130)\n",
    "ax.set_ylim(25, 44)\n",
    "plt.gca().set_aspect('equal', adjustable='box')\n",
    "cb = plt.colorbar(dat[0], orientation=\"horizontal\")\n",
    "cb.set_label(\"Total head (m)\")"
   ]
  },
  {
   "cell_type": "code",
   "execution_count": null,
   "metadata": {
    "collapsed": false
   },
   "outputs": [],
   "source": [
    "fig = plt.figure(figsize = (12, 5))\n",
    "ax = plt.subplot(111)\n",
    "dat = Static.Utils.plot2Ddata(mesh.gridCC, f[src,'phi'], ax=ax, ncontour=30, contourOpts={\"cmap\":\"viridis\"})\n",
    "ax.fill_between(xsurf, ysurf, yup, facecolor='white', edgecolor=\"white\")\n",
    "ax.set_xlim(50, 130)\n",
    "ax.set_ylim(25, 44)\n",
    "cb = plt.colorbar(dat[1], orientation=\"horizontal\")\n",
    "cb.set_label(\"Potential (V)\")"
   ]
  },
  {
   "cell_type": "code",
   "execution_count": null,
   "metadata": {
    "collapsed": false
   },
   "outputs": [],
   "source": [
    "fig = plt.figure(figsize = (12, 5))\n",
    "ax = plt.subplot(111)\n",
    "sigma = 1./rho\n",
    "sigma[airind] = np.nan\n",
    "dat = mesh.plotImage(f[src,'e'], view=\"vec\", vType=\"F\",grid=False, pcolorOpts={\"cmap\":\"viridis\"}, ax=ax, streamOpts={\"color\":\"w\"})\n",
    "ax.plot(locM[:,0], locM[:,1], 'go')\n",
    "ax.plot(locN[:,0], locN[:,1], 'r.', ms=5)\n",
    "ax.plot(topo[:,0], topo[:,1], 'r-')\n",
    "ax.plot(tempx, tempy, 'w-', lw=2)\n",
    "ax.set_xlim(50, 130)\n",
    "ax.set_ylim(25, 44)\n",
    "plt.gca().set_aspect('equal', adjustable='box')\n",
    "cb = plt.colorbar(dat[0], orientation=\"horizontal\")\n",
    "cb.set_label(\"Potential (V)\")"
   ]
  },
  {
   "cell_type": "code",
   "execution_count": null,
   "metadata": {
    "collapsed": false
   },
   "outputs": [],
   "source": [
    "figsize(12, 3)\n",
    "plt.plot(locs[:,0], data*1000, '.-')\n",
    "plt.xlim(50, 130)\n",
    "grid(True)"
   ]
  },
  {
   "cell_type": "code",
   "execution_count": null,
   "metadata": {
    "collapsed": true
   },
   "outputs": [],
   "source": [
    "q = src.eval(prob)"
   ]
  },
  {
   "cell_type": "code",
   "execution_count": null,
   "metadata": {
    "collapsed": false
   },
   "outputs": [],
   "source": [
    "fig = plt.figure(figsize = (12, 5))\n",
    "ax = plt.subplot(111)\n",
    "\n",
    "dat = mesh.plotImage(q, grid=False, pcolorOpts={\"cmap\":\"viridis\"}, ax=ax)\n",
    "# ax.plot(locM[:,0], locM[:,1], 'go')\n",
    "# ax.plot(locN[:,0], locN[:,1], 'r.', ms=5)\n",
    "# ax.plot(topo[:,0], topo[:,1], 'r-')\n",
    "# ax.plot(tempx, tempy, 'w-', lw=2)\n",
    "\n",
    "ax.set_xlim(50, 130)\n",
    "ax.set_ylim(25, 44)\n",
    "plt.gca().set_aspect('equal', adjustable='box')\n",
    "cb = plt.colorbar(dat[0], orientation=\"horizontal\")\n",
    "cb.set_label(\"Potential (V)\")"
   ]
  },
  {
   "cell_type": "code",
   "execution_count": null,
   "metadata": {
    "collapsed": false
   },
   "outputs": [],
   "source": [
    "fig = plt.figure(figsize = (12, 5))\n",
    "ax = plt.subplot(111)\n",
    "\n",
    "dat = mesh.plotImage(f[src,\"charge\"], grid=False, pcolorOpts={\"cmap\":\"viridis\"}, ax=ax)\n",
    "# ax.plot(locM[:,0], locM[:,1], 'go')\n",
    "# ax.plot(locN[:,0], locN[:,1], 'r.', ms=5)\n",
    "# ax.plot(topo[:,0], topo[:,1], 'r-')\n",
    "# ax.plot(tempx, tempy, 'w-', lw=2)\n",
    "\n",
    "ax.set_xlim(50, 130)\n",
    "ax.set_ylim(25, 44)\n",
    "plt.gca().set_aspect('equal', adjustable='box')\n",
    "cb = plt.colorbar(dat[0], orientation=\"horizontal\")\n",
    "cb.set_label(\"Potential (V)\")"
   ]
  },
  {
   "cell_type": "code",
   "execution_count": null,
   "metadata": {
    "collapsed": true
   },
   "outputs": [],
   "source": []
  },
  {
   "cell_type": "code",
   "execution_count": null,
   "metadata": {
    "collapsed": true
   },
   "outputs": [],
   "source": []
  },
  {
   "cell_type": "code",
   "execution_count": null,
   "metadata": {
    "collapsed": true
   },
   "outputs": [],
   "source": []
  },
  {
   "cell_type": "code",
   "execution_count": null,
   "metadata": {
    "collapsed": true
   },
   "outputs": [],
   "source": []
  },
  {
   "cell_type": "code",
   "execution_count": null,
   "metadata": {
    "collapsed": true
   },
   "outputs": [],
   "source": []
  },
  {
   "cell_type": "code",
   "execution_count": null,
   "metadata": {
    "collapsed": true
   },
   "outputs": [],
   "source": []
  }
 ],
 "metadata": {
  "kernelspec": {
   "display_name": "Python [default]",
   "language": "python",
   "name": "python2"
  },
  "language_info": {
   "codemirror_mode": {
    "name": "ipython",
    "version": 2
   },
   "file_extension": ".py",
   "mimetype": "text/x-python",
   "name": "python",
   "nbconvert_exporter": "python",
   "pygments_lexer": "ipython2",
   "version": "2.7.12"
  }
 },
 "nbformat": 4,
 "nbformat_minor": 0
}
