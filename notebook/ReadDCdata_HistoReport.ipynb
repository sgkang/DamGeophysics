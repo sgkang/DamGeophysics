{
 "cells": [
  {
   "cell_type": "code",
   "execution_count": 1,
   "metadata": {
    "collapsed": false
   },
   "outputs": [],
   "source": [
    "from SimPEG import np, sp, EM, Mesh\n",
    "from SimPEG.EM.Static import DC"
   ]
  },
  {
   "cell_type": "code",
   "execution_count": 2,
   "metadata": {
    "collapsed": false
   },
   "outputs": [
    {
     "name": "stdout",
     "output_type": "stream",
     "text": [
      "Populating the interactive namespace from numpy and matplotlib\n"
     ]
    }
   ],
   "source": [
    "%pylab inline"
   ]
  },
  {
   "cell_type": "markdown",
   "metadata": {},
   "source": [
    "Modified Pole-Pole array"
   ]
  },
  {
   "cell_type": "code",
   "execution_count": 3,
   "metadata": {
    "collapsed": false
   },
   "outputs": [],
   "source": [
    "def getDCdata(fname, offset=0.):\n",
    "    fid = open(fname, \"rb\")\n",
    "    lines = fid.readlines()\n",
    "    n = int(np.array(map(float, lines[5].split())) [0])\n",
    "    nelecl = int(np.array(map(float, lines[5].split())) [1])\n",
    "    nelec = nelecl+3\n",
    "    i_n = 0\n",
    "    data = []\n",
    "    print n, nelec\n",
    "    for iline, line in enumerate(lines[6:]):\n",
    "        temp = np.array(map(float, line.split()))\n",
    "        data.append(temp)\n",
    "        if temp.size is not 10:\n",
    "            i_n += 1\n",
    "        if i_n == n:\n",
    "#             aspacing =  float(lines[6+iline+1].split()[1])\n",
    "            break\n",
    "    data = np.hstack(data)\n",
    "    fid.close()\n",
    "\n",
    "    ndata = data.size\n",
    "    B = []\n",
    "    M = []\n",
    "    for i_n in range(n):\n",
    "        tempB = np.array(np.arange(nelecl-i_n)+1)\n",
    "        tempM = np.array(np.arange(nelecl-i_n)+2+i_n)\n",
    "        B.append(tempB)\n",
    "        M.append(tempM)    \n",
    "    B = np.hstack(B) \n",
    "    M = np.hstack(M) \n",
    "    A = np.ones(ndata, dtype=int) \n",
    "    N = np.ones(ndata, dtype=int) * (nelec-1) \n",
    "    \n",
    "    aspacing = 5. \n",
    "    uniqB = np.unique(B)\n",
    "    srcList = []\n",
    "    dobsres = []\n",
    "    for isrc in range (nelecl):\n",
    "        locA = np.r_[0.+offset, 0., 0.]\n",
    "        locB = np.r_[uniqB[isrc]*aspacing+offset, 0., 0.]\n",
    "        rxinds = B == uniqB[isrc]\n",
    "        locsM = np.c_[M[rxinds]*aspacing+offset, np.zeros(rxinds.sum()), np.zeros(rxinds.sum())]\n",
    "        locsN = np.c_[N[rxinds]*aspacing+offset, np.zeros(rxinds.sum()), np.zeros(rxinds.sum())]    \n",
    "        rx = DC.Rx.Dipole(locsM, locsN)\n",
    "        src = DC.Src.Dipole([rx], locA, locB)\n",
    "        srcList.append(src)\n",
    "        dobsres.append(data[rxinds])\n",
    "    dobsres = np.hstack(dobsres)\n",
    "    survey = DC.Survey(srcList)\n",
    "    survey.dobs = dobsres\n",
    "    \n",
    "    return survey"
   ]
  },
  {
   "cell_type": "code",
   "execution_count": 4,
   "metadata": {
    "collapsed": false
   },
   "outputs": [
    {
     "name": "stdout",
     "output_type": "stream",
     "text": [
      "3 5\n"
     ]
    },
    {
     "name": "stderr",
     "output_type": "stream",
     "text": [
      "/Users/sklim/anaconda/lib/python2.7/site-packages/ipykernel/__main__.py:43: VisibleDeprecationWarning: boolean index did not match indexed array along dimension 0; dimension is 15 but corresponding boolean dimension is 3\n",
      "/Users/sklim/anaconda/lib/python2.7/site-packages/ipykernel/__main__.py:47: VisibleDeprecationWarning: boolean index did not match indexed array along dimension 0; dimension is 15 but corresponding boolean dimension is 3\n"
     ]
    }
   ],
   "source": [
    "fname2007 = \"../data/ChungCheonDC/20150101000000.apr\"\n",
    "fname2015 = \"../data/ChungCheonDC/20150501000000.apr\"\n",
    "survey2007 = getDCdata(fname2007)"
   ]
  },
  {
   "cell_type": "code",
   "execution_count": 5,
   "metadata": {
    "collapsed": false
   },
   "outputs": [
    {
     "name": "stdout",
     "output_type": "stream",
     "text": [
      "3 5\n"
     ]
    },
    {
     "name": "stderr",
     "output_type": "stream",
     "text": [
      "/Users/sklim/anaconda/lib/python2.7/site-packages/ipykernel/__main__.py:43: VisibleDeprecationWarning: boolean index did not match indexed array along dimension 0; dimension is 15 but corresponding boolean dimension is 3\n",
      "/Users/sklim/anaconda/lib/python2.7/site-packages/ipykernel/__main__.py:47: VisibleDeprecationWarning: boolean index did not match indexed array along dimension 0; dimension is 15 but corresponding boolean dimension is 3\n"
     ]
    }
   ],
   "source": [
    "survey2015 = getDCdata(fname2015, offset=-10.)"
   ]
  },
  {
   "cell_type": "code",
   "execution_count": 6,
   "metadata": {
    "collapsed": false
   },
   "outputs": [
    {
     "ename": "TypeError",
     "evalue": "plot_pseudoSection() got an unexpected keyword argument 'dtype'",
     "output_type": "error",
     "traceback": [
      "\u001b[0;31m---------------------------------------------------------------------------\u001b[0m",
      "\u001b[0;31mTypeError\u001b[0m                                 Traceback (most recent call last)",
      "\u001b[0;32m<ipython-input-6-3b42d1d4ea7d>\u001b[0m in \u001b[0;36m<module>\u001b[0;34m()\u001b[0m\n\u001b[1;32m      1\u001b[0m \u001b[0mfig\u001b[0m\u001b[0;34m,\u001b[0m \u001b[0max\u001b[0m \u001b[0;34m=\u001b[0m \u001b[0mplt\u001b[0m\u001b[0;34m.\u001b[0m\u001b[0msubplots\u001b[0m\u001b[0;34m(\u001b[0m\u001b[0;36m1\u001b[0m\u001b[0;34m,\u001b[0m\u001b[0;36m1\u001b[0m\u001b[0;34m,\u001b[0m \u001b[0mfigsize\u001b[0m\u001b[0;34m=\u001b[0m\u001b[0;34m(\u001b[0m\u001b[0;36m10\u001b[0m\u001b[0;34m,\u001b[0m\u001b[0;36m1.5\u001b[0m\u001b[0;34m)\u001b[0m\u001b[0;34m)\u001b[0m\u001b[0;34m\u001b[0m\u001b[0m\n\u001b[0;32m----> 2\u001b[0;31m \u001b[0mout\u001b[0m \u001b[0;34m=\u001b[0m \u001b[0mEM\u001b[0m\u001b[0;34m.\u001b[0m\u001b[0mStatic\u001b[0m\u001b[0;34m.\u001b[0m\u001b[0mUtils\u001b[0m\u001b[0;34m.\u001b[0m\u001b[0mplot_pseudoSection\u001b[0m\u001b[0;34m(\u001b[0m\u001b[0msurvey2007\u001b[0m\u001b[0;34m,\u001b[0m \u001b[0max\u001b[0m\u001b[0;34m,\u001b[0m \u001b[0msameratio\u001b[0m\u001b[0;34m=\u001b[0m\u001b[0mFalse\u001b[0m\u001b[0;34m,\u001b[0m \u001b[0mdtype\u001b[0m\u001b[0;34m=\u001b[0m\u001b[0;34m\"volt\"\u001b[0m\u001b[0;34m,\u001b[0m \u001b[0mclim\u001b[0m\u001b[0;34m=\u001b[0m\u001b[0;34m(\u001b[0m\u001b[0;36m0.7\u001b[0m\u001b[0;34m,\u001b[0m \u001b[0;36m80\u001b[0m\u001b[0;34m)\u001b[0m\u001b[0;34m)\u001b[0m\u001b[0;34m\u001b[0m\u001b[0m\n\u001b[0m\u001b[1;32m      3\u001b[0m \u001b[0mgeom\u001b[0m \u001b[0;34m=\u001b[0m \u001b[0mnp\u001b[0m\u001b[0;34m.\u001b[0m\u001b[0mhstack\u001b[0m\u001b[0;34m(\u001b[0m\u001b[0mout\u001b[0m\u001b[0;34m[\u001b[0m\u001b[0;36m3\u001b[0m\u001b[0;34m]\u001b[0m\u001b[0;34m)\u001b[0m\u001b[0;34m\u001b[0m\u001b[0m\n\u001b[1;32m      4\u001b[0m \u001b[0mdobs2007\u001b[0m \u001b[0;34m=\u001b[0m \u001b[0msurvey2007\u001b[0m\u001b[0;34m.\u001b[0m\u001b[0mdobs\u001b[0m\u001b[0;34m*\u001b[0m\u001b[0mgeom\u001b[0m\u001b[0;34m\u001b[0m\u001b[0m\n\u001b[1;32m      5\u001b[0m \u001b[0max\u001b[0m\u001b[0;34m.\u001b[0m\u001b[0mset_xlim\u001b[0m\u001b[0;34m(\u001b[0m\u001b[0;36m80\u001b[0m\u001b[0;34m,\u001b[0m \u001b[0;36m280\u001b[0m\u001b[0;34m)\u001b[0m\u001b[0;34m\u001b[0m\u001b[0m\n",
      "\u001b[0;31mTypeError\u001b[0m: plot_pseudoSection() got an unexpected keyword argument 'dtype'"
     ]
    },
    {
     "data": {
      "image/png": "[encoded data removed]",
      "text/plain": [
       "<matplotlib.figure.Figure at 0x10c25c110>"
      ]
     },
     "metadata": {},
     "output_type": "display_data"
    }
   ],
   "source": [
    "fig, ax = plt.subplots(1,1, figsize=(10,1.5))\n",
    "out = EM.Static.Utils.plot_pseudoSection(survey2007, ax, sameratio=False, dtype=\"volt\", clim=(0.7, 80))\n",
    "geom = np.hstack(out[3])\n",
    "dobs2007 = survey2007.dobs*geom\n",
    "ax.set_xlim(80, 280)"
   ]
  },
  {
   "cell_type": "code",
   "execution_count": 7,
   "metadata": {
    "collapsed": false
   },
   "outputs": [
    {
     "ename": "TypeError",
     "evalue": "plot_pseudoSection() got an unexpected keyword argument 'dtype'",
     "output_type": "error",
     "traceback": [
      "\u001b[0;31m---------------------------------------------------------------------------\u001b[0m",
      "\u001b[0;31mTypeError\u001b[0m                                 Traceback (most recent call last)",
      "\u001b[0;32m<ipython-input-7-13f3f059a32c>\u001b[0m in \u001b[0;36m<module>\u001b[0;34m()\u001b[0m\n\u001b[1;32m      1\u001b[0m \u001b[0mfig\u001b[0m\u001b[0;34m,\u001b[0m \u001b[0max\u001b[0m \u001b[0;34m=\u001b[0m \u001b[0mplt\u001b[0m\u001b[0;34m.\u001b[0m\u001b[0msubplots\u001b[0m\u001b[0;34m(\u001b[0m\u001b[0;36m1\u001b[0m\u001b[0;34m,\u001b[0m\u001b[0;36m1\u001b[0m\u001b[0;34m,\u001b[0m \u001b[0mfigsize\u001b[0m\u001b[0;34m=\u001b[0m\u001b[0;34m(\u001b[0m\u001b[0;36m10\u001b[0m\u001b[0;34m,\u001b[0m\u001b[0;36m1.5\u001b[0m\u001b[0;34m)\u001b[0m\u001b[0;34m)\u001b[0m\u001b[0;34m\u001b[0m\u001b[0m\n\u001b[0;32m----> 2\u001b[0;31m \u001b[0mout\u001b[0m \u001b[0;34m=\u001b[0m \u001b[0mEM\u001b[0m\u001b[0;34m.\u001b[0m\u001b[0mStatic\u001b[0m\u001b[0;34m.\u001b[0m\u001b[0mUtils\u001b[0m\u001b[0;34m.\u001b[0m\u001b[0mplot_pseudoSection\u001b[0m\u001b[0;34m(\u001b[0m\u001b[0msurvey2015\u001b[0m\u001b[0;34m,\u001b[0m \u001b[0max\u001b[0m\u001b[0;34m,\u001b[0m \u001b[0msameratio\u001b[0m\u001b[0;34m=\u001b[0m\u001b[0mFalse\u001b[0m\u001b[0;34m,\u001b[0m \u001b[0mdtype\u001b[0m\u001b[0;34m=\u001b[0m\u001b[0;34m\"volt\"\u001b[0m\u001b[0;34m,\u001b[0m \u001b[0mclim\u001b[0m\u001b[0;34m=\u001b[0m\u001b[0;34m(\u001b[0m\u001b[0;36m0.7\u001b[0m\u001b[0;34m,\u001b[0m \u001b[0;36m80\u001b[0m\u001b[0;34m)\u001b[0m\u001b[0;34m)\u001b[0m\u001b[0;34m\u001b[0m\u001b[0m\n\u001b[0m\u001b[1;32m      3\u001b[0m \u001b[0mgeom\u001b[0m \u001b[0;34m=\u001b[0m \u001b[0mnp\u001b[0m\u001b[0;34m.\u001b[0m\u001b[0mhstack\u001b[0m\u001b[0;34m(\u001b[0m\u001b[0mout\u001b[0m\u001b[0;34m[\u001b[0m\u001b[0;36m3\u001b[0m\u001b[0;34m]\u001b[0m\u001b[0;34m)\u001b[0m\u001b[0;34m\u001b[0m\u001b[0m\n\u001b[1;32m      4\u001b[0m \u001b[0mtemp\u001b[0m \u001b[0;34m=\u001b[0m \u001b[0msurvey2015\u001b[0m\u001b[0;34m.\u001b[0m\u001b[0mdobs\u001b[0m\u001b[0;34m.\u001b[0m\u001b[0mcopy\u001b[0m\u001b[0;34m(\u001b[0m\u001b[0;34m)\u001b[0m\u001b[0;34m\u001b[0m\u001b[0m\n\u001b[1;32m      5\u001b[0m \u001b[0mtemp\u001b[0m \u001b[0;34m[\u001b[0m\u001b[0mtemp\u001b[0m \u001b[0;34m<=\u001b[0m \u001b[0;36m0.\u001b[0m\u001b[0;34m]\u001b[0m \u001b[0;34m=\u001b[0m \u001b[0mnp\u001b[0m\u001b[0;34m.\u001b[0m\u001b[0mnan\u001b[0m\u001b[0;34m\u001b[0m\u001b[0m\n",
      "\u001b[0;31mTypeError\u001b[0m: plot_pseudoSection() got an unexpected keyword argument 'dtype'"
     ]
    },
    {
     "data": {
      "image/png": "[encoded data removed]",
      "text/plain": [
       "<matplotlib.figure.Figure at 0x10e777cd0>"
      ]
     },
     "metadata": {},
     "output_type": "display_data"
    }
   ],
   "source": [
    "fig, ax = plt.subplots(1,1, figsize=(10,1.5))\n",
    "out = EM.Static.Utils.plot_pseudoSection(survey2015, ax, sameratio=False, dtype=\"volt\", clim=(0.7, 80))\n",
    "geom = np.hstack(out[3])\n",
    "temp = survey2015.dobs.copy()\n",
    "temp [temp <= 0.] = np.nan\n",
    "dobs2015 = temp*geom\n",
    "ax.set_xlim(80, 280)"
   ]
  },
  {
   "cell_type": "code",
   "execution_count": 8,
   "metadata": {
    "collapsed": false
   },
   "outputs": [
    {
     "ename": "NameError",
     "evalue": "name 'temp' is not defined",
     "output_type": "error",
     "traceback": [
      "\u001b[0;31m---------------------------------------------------------------------------\u001b[0m",
      "\u001b[0;31mNameError\u001b[0m                                 Traceback (most recent call last)",
      "\u001b[0;32m<ipython-input-8-c6d1c6addd97>\u001b[0m in \u001b[0;36m<module>\u001b[0;34m()\u001b[0m\n\u001b[1;32m      1\u001b[0m \u001b[0mfig\u001b[0m\u001b[0;34m,\u001b[0m \u001b[0max\u001b[0m \u001b[0;34m=\u001b[0m \u001b[0mplt\u001b[0m\u001b[0;34m.\u001b[0m\u001b[0msubplots\u001b[0m\u001b[0;34m(\u001b[0m\u001b[0;36m1\u001b[0m\u001b[0;34m,\u001b[0m\u001b[0;36m1\u001b[0m\u001b[0;34m,\u001b[0m \u001b[0mfigsize\u001b[0m\u001b[0;34m=\u001b[0m\u001b[0;34m(\u001b[0m\u001b[0;36m7\u001b[0m\u001b[0;34m,\u001b[0m\u001b[0;36m3\u001b[0m\u001b[0;34m)\u001b[0m\u001b[0;34m)\u001b[0m\u001b[0;34m\u001b[0m\u001b[0m\n\u001b[0;32m----> 2\u001b[0;31m \u001b[0mout\u001b[0m \u001b[0;34m=\u001b[0m \u001b[0mhist\u001b[0m\u001b[0;34m(\u001b[0m\u001b[0mnp\u001b[0m\u001b[0;34m.\u001b[0m\u001b[0mlog10\u001b[0m\u001b[0;34m(\u001b[0m\u001b[0mtemp\u001b[0m\u001b[0;34m[\u001b[0m\u001b[0;34m~\u001b[0m\u001b[0mnp\u001b[0m\u001b[0;34m.\u001b[0m\u001b[0misnan\u001b[0m\u001b[0;34m(\u001b[0m\u001b[0mtemp\u001b[0m\u001b[0;34m)\u001b[0m\u001b[0;34m]\u001b[0m\u001b[0;34m)\u001b[0m\u001b[0;34m,\u001b[0m \u001b[0mbins\u001b[0m\u001b[0;34m=\u001b[0m\u001b[0;36m100\u001b[0m\u001b[0;34m,\u001b[0m \u001b[0mcolor\u001b[0m\u001b[0;34m=\u001b[0m\u001b[0;34m'b'\u001b[0m\u001b[0;34m,\u001b[0m \u001b[0malpha\u001b[0m\u001b[0;34m=\u001b[0m\u001b[0;36m0.5\u001b[0m\u001b[0;34m)\u001b[0m\u001b[0;34m\u001b[0m\u001b[0m\n\u001b[0m\u001b[1;32m      3\u001b[0m \u001b[0mout\u001b[0m \u001b[0;34m=\u001b[0m \u001b[0mhist\u001b[0m\u001b[0;34m(\u001b[0m\u001b[0mnp\u001b[0m\u001b[0;34m.\u001b[0m\u001b[0mlog10\u001b[0m\u001b[0;34m(\u001b[0m\u001b[0msurvey2007\u001b[0m\u001b[0;34m.\u001b[0m\u001b[0mdobs\u001b[0m\u001b[0;34m)\u001b[0m\u001b[0;34m,\u001b[0m \u001b[0mbins\u001b[0m\u001b[0;34m=\u001b[0m\u001b[0;36m100\u001b[0m\u001b[0;34m,\u001b[0m \u001b[0mcolor\u001b[0m\u001b[0;34m=\u001b[0m\u001b[0;34m'r'\u001b[0m\u001b[0;34m,\u001b[0m \u001b[0malpha\u001b[0m\u001b[0;34m=\u001b[0m\u001b[0;36m0.3\u001b[0m\u001b[0;34m)\u001b[0m\u001b[0;34m\u001b[0m\u001b[0m\n\u001b[1;32m      4\u001b[0m \u001b[0max\u001b[0m\u001b[0;34m.\u001b[0m\u001b[0mgrid\u001b[0m\u001b[0;34m(\u001b[0m\u001b[0mTrue\u001b[0m\u001b[0;34m)\u001b[0m\u001b[0;34m\u001b[0m\u001b[0m\n\u001b[1;32m      5\u001b[0m \u001b[0max\u001b[0m\u001b[0;34m.\u001b[0m\u001b[0mlegend\u001b[0m\u001b[0;34m(\u001b[0m\u001b[0;34m(\u001b[0m\u001b[0;34m\"2007\"\u001b[0m\u001b[0;34m,\u001b[0m \u001b[0;34m\"2015\"\u001b[0m\u001b[0;34m)\u001b[0m\u001b[0;34m)\u001b[0m\u001b[0;34m\u001b[0m\u001b[0m\n",
      "\u001b[0;31mNameError\u001b[0m: name 'temp' is not defined"
     ]
    },
    {
     "data": {
      "image/png": "[encoded data removed]",
      "text/plain": [
       "<matplotlib.figure.Figure at 0x10e788150>"
      ]
     },
     "metadata": {},
     "output_type": "display_data"
    }
   ],
   "source": [
    "fig, ax = plt.subplots(1,1, figsize=(7,3))\n",
    "out = hist(np.log10(temp[~np.isnan(temp)]), bins=100, color='b', alpha=0.5)\n",
    "out = hist(np.log10(survey2007.dobs), bins=100, color='r', alpha=0.3)\n",
    "ax.grid(True)\n",
    "ax.legend((\"2007\", \"2015\"))"
   ]
  },
  {
   "cell_type": "code",
   "execution_count": 9,
   "metadata": {
    "collapsed": true
   },
   "outputs": [],
   "source": [
    "from SimPEG.Survey import Data\n",
    "def removeRxsfromDC(survey, inds, DClow=-np.inf, DChigh=np.inf, surveyType=\"2D\"):\n",
    "    srcList = survey.srcList\n",
    "    srcListNew = []\n",
    "    dobs = survey.dobs\n",
    "    dobs[inds] = np.nan\n",
    "    data = Data(survey, survey.dobs)\n",
    "    rxData = []\n",
    "    for iSrc, src in enumerate(srcList):\n",
    "        rx = src.rxList[0]\n",
    "        data_temp = data[src, rx]        \n",
    "        rxinds = np.isnan(data_temp) | (np.logical_or(DClow>data_temp, DChigh<data_temp))\n",
    "        nrxact_temp = rxinds.sum()\n",
    "        nrx_temp = len(rxinds)\n",
    "        rxlocM = rx.locs[0]\n",
    "        rxlocN = rx.locs[1]\n",
    "        srcloc = src.loc\n",
    "        rxData.append(data_temp[~rxinds])\n",
    "        # All Rxs are active\n",
    "        if  nrxact_temp == 0:\n",
    "            if surveyType == \"2D\":                \n",
    "                rxNew = DC.Rx.Dipole_ky(rxlocM, rxlocN)\n",
    "            else:\n",
    "                rxNew = DC.Rx.Dipole(rxlocM, rxlocN)\n",
    "            srcNew = DC.Src.Dipole([rxNew], srcloc[0], srcloc[1])                        \n",
    "            srcListNew.append(srcNew)            \n",
    "        # All Rxs are nan then remove src\n",
    "        elif nrx_temp == nrxact_temp:\n",
    "            print (\"Remove %i-th Src\") % (iSrc)\n",
    "        # Some Rxs are not active\n",
    "        else:\n",
    "            if surveyType == \"2D\":                \n",
    "                rxNew = DC.Rx.Dipole_ky(rxlocM[~rxinds,:], rxlocN[~rxinds,:])\n",
    "            else:\n",
    "                rxNew = DC.Rx.Dipole(rxlocM[~rxinds,:], rxlocN[~rxinds,:])\n",
    "            srcNew = DC.Src.Dipole([rxNew], srcloc[0], srcloc[1])                        \n",
    "            srcListNew.append(srcNew)\n",
    "    if surveyType == \"2D\":                            \n",
    "        surveyNew = DC.Survey_ky(srcListNew)\n",
    "    else:\n",
    "        surveyNew = DC.Survey(srcListNew)                          \n",
    "    surveyNew.dobs = np.hstack(rxData)\n",
    "    return surveyNew\n",
    "\n",
    "def from3Dto2Dsurvey(survey):\n",
    "    srcLists2D = []\n",
    "    nSrc = len(survey.srcList)\n",
    "\n",
    "    for iSrc in range (nSrc):\n",
    "        src = survey.srcList[iSrc]\n",
    "        locsM = np.c_[src.rxList[0].locs[0][:,0], np.ones_like(src.rxList[0].locs[0][:,0])*-0.75] \n",
    "        locsN = np.c_[src.rxList[0].locs[1][:,0], np.ones_like(src.rxList[0].locs[1][:,0])*-0.75] \n",
    "        rx = DC.Rx.Dipole_ky(locsM, locsN)\n",
    "        locA = np.r_[src.loc[0][0], -0.75]\n",
    "        locB = np.r_[src.loc[1][0], -0.75]\n",
    "        src = DC.Src.Dipole([rx], locA, locB)\n",
    "        srcLists2D.append(src)\n",
    "    survey2D = DC.Survey_ky(srcLists2D)\n",
    "    survey2D.dobs = survey.dobs.copy()\n",
    "    return survey2D"
   ]
  },
  {
   "cell_type": "code",
   "execution_count": 10,
   "metadata": {
    "collapsed": false
   },
   "outputs": [
    {
     "data": {
      "text/plain": [
       "(80, 280)"
      ]
     },
     "execution_count": 10,
     "metadata": {},
     "output_type": "execute_result"
    },
    {
     "data": {
      "image/png": "[encoded data removed]",
      "text/plain": [
       "<matplotlib.figure.Figure at 0x10fc29dd0>"
      ]
     },
     "metadata": {},
     "output_type": "display_data"
    }
   ],
   "source": [
    "survey2007.dobs = dobs2007\n",
    "fig, ax = plt.subplots(1,1, figsize=(10,1.5))\n",
    "out = EM.Static.Utils.plot_pseudoSection(survey2007, ax, sameratio=False, dtype=\"appr\", scale=\"log\", clim=(-0.2, 2))\n",
    "ax.set_xlim(80, 280)"
   ]
  },
  {
   "cell_type": "code",
   "execution_count": 11,
   "metadata": {
    "collapsed": false
   },
   "outputs": [
    {
     "data": {
      "text/plain": [
       "(80, 280)"
      ]
     },
     "execution_count": 11,
     "metadata": {},
     "output_type": "execute_result"
    },
    {
     "data": {
      "image/png": "[encoded data removed]",
      "text/plain": [
       "<matplotlib.figure.Figure at 0x10fa43250>"
      ]
     },
     "metadata": {},
     "output_type": "display_data"
    }
   ],
   "source": [
    "survey2015.dobs = dobs2015\n",
    "survey2015New = removeRxsfromDC(survey2015, [])\n",
    "fig, ax = plt.subplots(1,1, figsize=(10,1.5))\n",
    "out = EM.Static.Utils.plot_pseudoSection(survey2015New, ax, sameratio=False, dtype=\"appr\", scale=\"log\", clim=(-0.2, 2))\n",
    "ax.set_xlim(80, 280)"
   ]
  },
  {
   "cell_type": "code",
   "execution_count": 12,
   "metadata": {
    "collapsed": false
   },
   "outputs": [],
   "source": [
    "cs = 2.5\n",
    "npad = 6\n",
    "hx = [(cs,npad, -1.3),(cs,150),(cs,npad, 1.3)]\n",
    "hy = [(cs,npad, -1.3),(cs,20),(cs/2, 5)]\n",
    "mesh = Mesh.TensorMesh([hx, hy])\n",
    "mesh = Mesh.TensorMesh([hx, hy],x0=[-mesh.hx[:6].sum()-0.25-10, -mesh.hy.sum()])"
   ]
  },
  {
   "cell_type": "code",
   "execution_count": 13,
   "metadata": {
    "collapsed": false
   },
   "outputs": [
    {
     "ename": "ImportError",
     "evalue": "No module named pymatsolver",
     "output_type": "error",
     "traceback": [
      "\u001b[0;31m---------------------------------------------------------------------------\u001b[0m",
      "\u001b[0;31mImportError\u001b[0m                               Traceback (most recent call last)",
      "\u001b[0;32m<ipython-input-13-4770fcfb9f65>\u001b[0m in \u001b[0;36m<module>\u001b[0;34m()\u001b[0m\n\u001b[1;32m      1\u001b[0m from SimPEG import (Mesh, Maps, Utils, DataMisfit, Regularization,\n\u001b[1;32m      2\u001b[0m                     Optimization, Inversion, InvProblem, Directives)\n\u001b[0;32m----> 3\u001b[0;31m \u001b[0;32mfrom\u001b[0m \u001b[0mpymatsolver\u001b[0m \u001b[0;32mimport\u001b[0m \u001b[0mPardisoSolver\u001b[0m\u001b[0;34m\u001b[0m\u001b[0m\n\u001b[0m",
      "\u001b[0;31mImportError\u001b[0m: No module named pymatsolver"
     ]
    }
   ],
   "source": [
    "from SimPEG import (Mesh, Maps, Utils, DataMisfit, Regularization,\n",
    "                    Optimization, Inversion, InvProblem, Directives)\n",
    "from pymatsolver import PardisoSolver"
   ]
  },
  {
   "cell_type": "code",
   "execution_count": null,
   "metadata": {
    "collapsed": false
   },
   "outputs": [],
   "source": [
    "mapping = Maps.ExpMap(mesh)\n",
    "survey2D = from3Dto2Dsurvey(survey2015New)\n",
    "problem = DC.Problem2D_N(mesh, mapping=mapping)\n",
    "problem.pair(survey2D)\n",
    "problem.Solver = PardisoSolver\n",
    "m0 = np.ones(mesh.nC)*np.log(1e-1)\n",
    "mref = np.ones(mesh.nC)*np.log(1e-2)"
   ]
  },
  {
   "cell_type": "code",
   "execution_count": null,
   "metadata": {
    "collapsed": false
   },
   "outputs": [],
   "source": [
    "# from ipywidgets import interact\n",
    "# nSrc = len(survey2D.srcList)\n",
    "# def foo(isrc):\n",
    "#     figsize(10, 5)\n",
    "#     mesh.plotImage(np.ones(mesh.nC)*np.nan, gridOpts={\"color\":\"k\", \"alpha\":0.5}, grid=True)\n",
    "# #     isrc=0\n",
    "#     src = survey2D.srcList[isrc]\n",
    "#     plt.plot(src.loc[0][0], src.loc[0][1], 'bo')\n",
    "#     plt.plot(src.loc[1][0], src.loc[1][1], 'ro')\n",
    "#     locsM = src.rxList[0].locs[0]\n",
    "#     locsN = src.rxList[0].locs[1]\n",
    "#     plt.plot(locsM[:,0], locsM[:,1], 'ko')\n",
    "#     plt.plot(locsN[:,0], locsN[:,1], 'go')\n",
    "#     plt.gca().set_aspect('equal', adjustable='box')\n",
    "    \n",
    "# interact(foo, isrc=(0, nSrc-1, 1))"
   ]
  },
  {
   "cell_type": "code",
   "execution_count": null,
   "metadata": {
    "collapsed": true
   },
   "outputs": [],
   "source": [
    "weight =  1./abs(mesh.gridCC[:,1])**1.5"
   ]
  },
  {
   "cell_type": "code",
   "execution_count": null,
   "metadata": {
    "collapsed": false
   },
   "outputs": [],
   "source": [
    "survey2D.eps = 10**(-2.5)\n",
    "survey2D.std = 0.02\n",
    "dmisfit = DataMisfit.l2_DataMisfit(survey2D)\n",
    "regmap = Maps.IdentityMap(nP=int(mesh.nC))\n",
    "reg = Regularization.Simple(mesh,mapping=regmap)\n",
    "# reg = Regularization.Simple(mesh,mapping=regmap,cell_weights=weight)\n",
    "opt = Optimization.ProjectedGNCG(maxIter=10)\n",
    "opt.upper = np.log(1e0)\n",
    "opt.lower = np.log(1e-3)\n",
    "invProb = InvProblem.BaseInvProblem(dmisfit, reg, opt)\n",
    "# Create an inversion object\n",
    "beta = Directives.BetaSchedule(coolingFactor=5, coolingRate=2)\n",
    "betaest = Directives.BetaEstimate_ByEig(beta0_ratio=1e0)\n",
    "inv = Inversion.BaseInversion(invProb, directiveList=[beta, betaest])\n",
    "problem.counter = opt.counter = Utils.Counter()\n",
    "opt.LSshorten = 0.5\n",
    "opt.remember('xc')\n",
    "reg.mref = mref\n",
    "mopt = inv.run(m0)"
   ]
  },
  {
   "cell_type": "code",
   "execution_count": null,
   "metadata": {
    "collapsed": false
   },
   "outputs": [],
   "source": [
    "# sigma = np.ones(mesh.nC)\n",
    "sigma = mapping*mopt\n",
    "modelname = \"sigma2015_lakeside.npy\"\n",
    "np.save(modelname, sigma)"
   ]
  },
  {
   "cell_type": "code",
   "execution_count": null,
   "metadata": {
    "collapsed": false
   },
   "outputs": [],
   "source": [
    "fig, ax = plt.subplots(1,1, figsize = (20, 1.5))\n",
    "sigma = mapping*mopt\n",
    "dat = mesh.plotImage(np.log10(1./sigma), grid=False, ax=ax, pcolorOpts={\"cmap\":\"jet\"}, clim=(0, 3))\n",
    "ax.set_ylim(-15, 0)\n",
    "ax.set_xlim(-10, 380)\n",
    "plt.colorbar(dat[0], ax=ax)\n",
    "plt.plot(np.r_[1, 1]*342, np.r_[-20, 20], lw=3)"
   ]
  },
  {
   "cell_type": "code",
   "execution_count": null,
   "metadata": {
    "collapsed": true
   },
   "outputs": [],
   "source": []
  }
 ],
 "metadata": {
  "anaconda-cloud": {},
  "kernelspec": {
   "display_name": "Python [default]",
   "language": "python",
   "name": "python2"
  },
  "language_info": {
   "codemirror_mode": {
    "name": "ipython",
    "version": 2
   },
   "file_extension": ".py",
   "mimetype": "text/x-python",
   "name": "python",
   "nbconvert_exporter": "python",
   "pygments_lexer": "ipython2",
   "version": "2.7.12"
  }
 },
 "nbformat": 4,
 "nbformat_minor": 0
}
