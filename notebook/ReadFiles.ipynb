{
 "cells": [
  {
   "cell_type": "code",
   "execution_count": null,
   "metadata": {
    "collapsed": true
   },
   "outputs": [],
   "source": [
    "#         ZarcFitWindow.ObsFName = []\n",
    "#         ZarcFitWindow.obsdata = []\n",
    "#         if ZarcFitWindow.PathPickerWindow.fnamestr:                \n",
    "#             os.chdir(ZarcFitWindow.PathPickerWindow.fnamestr)                \n",
    "#             # Read *.z file in the path\n",
    "#             for file in glob.glob(\"*.z\"):\n",
    "#                 ZarcFitWindow.ObsFName.append(file) \n",
    "#                 tempobs = np.loadtxt(file, skiprows=11, delimiter=',')\n",
    "#                 ZarcFitWindow.obsdata.append(tempobs)                \n",
    "#                 # print (ZarcFitWindow.PathPickerWindow.fnamestr+ZarcFitWindow.filesep+ZarcFitWindow.filesep+file)\n",
    "\n",
    "#             ZarcFitWindow.ObsFNamedirsize = len(ZarcFitWindow.ObsFName)\n",
    "#             # Set maximum filenumber in ui \n",
    "#             ZarcFitWindow.horizontalSliderObsFileNumber.setMaximum(ZarcFitWindow.ObsFNamedirsize-1)\n",
    "#             ZarcFitWindow.spinBoxObsFileNumber.setMaximum(ZarcFitWindow.ObsFNamedirsize-1)\n",
    "#             ZarcFitWindow.label_LastFile.setText(str(ZarcFitWindow.ObsFNamedirsize-1))"
   ]
  },
  {
   "cell_type": "code",
   "execution_count": 2,
   "metadata": {
    "collapsed": true
   },
   "outputs": [],
   "source": [
    "import os\n",
    "fnames = []"
   ]
  },
  {
   "cell_type": "code",
   "execution_count": 5,
   "metadata": {
    "collapsed": true
   },
   "outputs": [],
   "source": [
    "os.chdir(\"../data/\")\n",
    "glob.glob(\"*.apr\")"
   ]
  },
  {
   "cell_type": "code",
   "execution_count": 3,
   "metadata": {
    "collapsed": false
   },
   "outputs": [
    {
     "name": "stdout",
     "output_type": "stream",
     "text": [
      "ReadDCdata.ipynb ReadFiles.ipynb\r\n"
     ]
    }
   ],
   "source": [
    "\"../data/ChungCheonDC/\""
   ]
  },
  {
   "cell_type": "code",
   "execution_count": null,
   "metadata": {
    "collapsed": true
   },
   "outputs": [],
   "source": []
  }
 ],
 "metadata": {
  "kernelspec": {
   "display_name": "Python 2",
   "language": "python",
   "name": "python2"
  },
  "language_info": {
   "codemirror_mode": {
    "name": "ipython",
    "version": 2
   },
   "file_extension": ".py",
   "mimetype": "text/x-python",
   "name": "python",
   "nbconvert_exporter": "python",
   "pygments_lexer": "ipython2",
   "version": "2.7.11"
  }
 },
 "nbformat": 4,
 "nbformat_minor": 0
}
