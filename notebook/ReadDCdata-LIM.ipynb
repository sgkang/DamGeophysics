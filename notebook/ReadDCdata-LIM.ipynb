{
 "cells": [
  {
   "cell_type": "code",
   "execution_count": 2,
   "metadata": {
    "collapsed": false
   },
   "outputs": [
    {
     "name": "stdout",
     "output_type": "stream",
     "text": [
      "Populating the interactive namespace from numpy and matplotlib\n"
     ]
    },
    {
     "ename": "ImportError",
     "evalue": "cannot import name DCIP",
     "output_type": "error",
     "traceback": [
      "\u001b[0;31m---------------------------------------------------------------------------\u001b[0m",
      "\u001b[0;31mImportError\u001b[0m                               Traceback (most recent call last)",
      "\u001b[0;32m<ipython-input-2-1d61e5b0c8e5>\u001b[0m in \u001b[0;36m<module>\u001b[0;34m()\u001b[0m\n\u001b[1;32m      1\u001b[0m \u001b[0mget_ipython\u001b[0m\u001b[0;34m(\u001b[0m\u001b[0;34m)\u001b[0m\u001b[0;34m.\u001b[0m\u001b[0mmagic\u001b[0m\u001b[0;34m(\u001b[0m\u001b[0;34mu'pylab inline'\u001b[0m\u001b[0;34m)\u001b[0m\u001b[0;34m\u001b[0m\u001b[0m\n\u001b[0;32m----> 2\u001b[0;31m \u001b[0;32mfrom\u001b[0m \u001b[0mSimPEG\u001b[0m \u001b[0;32mimport\u001b[0m \u001b[0mDCIP\u001b[0m \u001b[0;32mas\u001b[0m \u001b[0mDC\u001b[0m\u001b[0;34m\u001b[0m\u001b[0m\n\u001b[0m",
      "\u001b[0;31mImportError\u001b[0m: cannot import name DCIP"
     ]
    }
   ],
   "source": [
    "%pylab inline\n",
    "from SimPEG import DCIP as DC"
   ]
  },
  {
   "cell_type": "code",
   "execution_count": null,
   "metadata": {
    "collapsed": false
   },
   "outputs": [],
   "source": [
    "\"../data/ChungCheonDC/\""
   ]
  },
  {
   "cell_type": "code",
   "execution_count": null,
   "metadata": {
    "collapsed": false
   },
   "outputs": [],
   "source": [
    "\n",
    "def readReservoirDC(fname):\n",
    "    f = open(fname, 'r')\n",
    "    data = f.readlines()\n",
    "    temp = data[3].split()\n",
    "    nelec, ndata, aspacing = int(temp[0]), int(temp[1]), float(temp[2])\n",
    "    ntx = nelec-2\n",
    "    datalist = []\n",
    "    for iline, line in enumerate(data[4:4+ndata]):\n",
    "    #     line = line.replace(ignorevalue, 'nan')\n",
    "        linelist = line.split()    \n",
    "        datalist.append(np.array(map(float, linelist)))\n",
    "    DAT = np.vstack(datalist)\n",
    "    datalistSRC = []\n",
    "    srcList = []\n",
    "#     for i in range(ntx-1):\n",
    "    for i in range(ntx-1):        \n",
    "        txloc = np.array([i+2, i+1.])\n",
    "        ind = (DAT[:,:2] == txloc).sum(axis=1) == 2.\n",
    "        temp = DAT[ind,:]\n",
    "        datalistSRC.append(temp)\n",
    "        e = np.zeros_like(temp[:,2])\n",
    "        rxtemp = DC.RxDipole(np.c_[temp[:,2]*aspacing, e, e], np.c_[temp[:,3]*aspacing, e, e])\n",
    "        srctemp = DC.SrcDipole([rxtemp], np.r_[txloc[1]*aspacing, 0., 0.], np.r_[txloc[0]*aspacing, 0., 0.])\n",
    "        srcList.append(srctemp)\n",
    "    DAT_src = np.vstack(datalistSRC)    \n",
    "    survey = DC.SurveyDC(srcList)\n",
    "    survey.dobs = DAT_src[:,-1]\n",
    "    return survey"
   ]
  },
  {
   "cell_type": "code",
   "execution_count": null,
   "metadata": {
    "collapsed": false
   },
   "outputs": [],
   "source": [
    "fname1 = \"../data/ChungCheonDC/20150328120000.apr\"\n",
    "fname2 = \"../data/ChungCheonDC/20150328180000.apr\""
   ]
  },
  {
   "cell_type": "code",
   "execution_count": null,
   "metadata": {
    "collapsed": false
   },
   "outputs": [],
   "source": [
    "survey1 = readReservoirDC(fname1)\n",
    "survey2 = readReservoirDC(fname2)\n",
    "survey12 = readReservoirDC(fname2)"
   ]
  },
  {
   "cell_type": "code",
   "execution_count": null,
   "metadata": {
    "collapsed": false
   },
   "outputs": [],
   "source": [
    "# ind = (survey1.dobs > 200.) | (survey2.dobs > 200.)\n",
    "# survey1.dobs[ind] = np.median(survey1.dobs)\n",
    "# survey2.dobs[ind] = np.median(survey2.dobs)"
   ]
  },
  {
   "cell_type": "code",
   "execution_count": null,
   "metadata": {
    "collapsed": false
   },
   "outputs": [],
   "source": [
    "survey12.dobs = abs(survey2.dobs-survey1.dobs) / abs(survey1.dobs)"
   ]
  },
  {
   "cell_type": "code",
   "execution_count": null,
   "metadata": {
    "collapsed": false
   },
   "outputs": [],
   "source": [
    "fig, ax = plt.subplots(1,1, figsize = (12*2, 3*2))\n",
    "DC.plot_pseudoSection(survey1, ax, \"dpdp\", dtype=\"appr\", clim=[52, 150.])"
   ]
  },
  {
   "cell_type": "code",
   "execution_count": null,
   "metadata": {
    "collapsed": false
   },
   "outputs": [],
   "source": [
    "fig, ax = plt.subplots(1,1, figsize = (12*2, 3*2))\n",
    "DC.plot_pseudoSection(survey2, ax, \"dpdp\", dtype=\"appr\", clim=[52, 150.])"
   ]
  },
  {
   "cell_type": "code",
   "execution_count": null,
   "metadata": {
    "collapsed": false
   },
   "outputs": [],
   "source": [
    "fig, ax = plt.subplots(1,1, figsize = (12*2, 3*2))\n",
    "DC.plot_pseudoSection(survey12, ax, \"dpdp\", dtype=\"appr\", clim=[0., 0.1])"
   ]
  },
  {
   "cell_type": "code",
   "execution_count": null,
   "metadata": {
    "collapsed": true
   },
   "outputs": [],
   "source": []
  },
  {
   "cell_type": "code",
   "execution_count": null,
   "metadata": {
    "collapsed": true
   },
   "outputs": [],
   "source": []
  }
 ],
 "metadata": {
  "kernelspec": {
   "display_name": "Python [default]",
   "language": "python",
   "name": "python2"
  },
  "language_info": {
   "codemirror_mode": {
    "name": "ipython",
    "version": 2
   },
   "file_extension": ".py",
   "mimetype": "text/x-python",
   "name": "python",
   "nbconvert_exporter": "python",
   "pygments_lexer": "ipython2",
   "version": "2.7.12"
  }
 },
 "nbformat": 4,
 "nbformat_minor": 0
}
