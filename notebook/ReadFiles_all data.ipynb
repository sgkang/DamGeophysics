{
 "cells": [
  {
   "cell_type": "code",
   "execution_count": 1,
   "metadata": {
    "collapsed": false
   },
   "outputs": [
    {
     "name": "stderr",
     "output_type": "stream",
     "text": [
      "/Users/sgkang/anaconda2/lib/python2.7/site-packages/matplotlib/font_manager.py:273: UserWarning: Matplotlib is building the font cache using fc-list. This may take a moment.\n",
      "  warnings.warn('Matplotlib is building the font cache using fc-list. This may take a moment.')\n"
     ]
    },
    {
     "name": "stdout",
     "output_type": "stream",
     "text": [
      "Populating the interactive namespace from numpy and matplotlib\n"
     ]
    }
   ],
   "source": [
    "import sys\n",
    "sys.path.append(\"../codes/\")\n",
    "from Readfiles import getFnames\n",
    "from DCdata import readReservoirDC_all\n",
    "%pylab inline"
   ]
  },
  {
   "cell_type": "code",
   "execution_count": 2,
   "metadata": {
    "collapsed": false
   },
   "outputs": [],
   "source": [
    "directory = \"../data/ChungCheonDC/\""
   ]
  },
  {
   "cell_type": "code",
   "execution_count": 3,
   "metadata": {
    "collapsed": false
   },
   "outputs": [],
   "source": [
    "fnames = getFnames(directory, dtype=\"apr\", minimumsize=7000.)"
   ]
  },
  {
   "cell_type": "code",
   "execution_count": 4,
   "metadata": {
    "collapsed": false
   },
   "outputs": [],
   "source": [
    "fname_temp = fnames[0]\n",
    "dat_temp,height_temp, ID = readReservoirDC_all(directory+fname_temp)"
   ]
  },
  {
   "cell_type": "code",
   "execution_count": 5,
   "metadata": {
    "collapsed": false
   },
   "outputs": [],
   "source": [
    "ntimes = len(fnames)\n",
    "DATA = np.zeros((dat_temp.shape[0], ntimes))*np.nan\n",
    "height = np.ones(ntimes)*np.nan"
   ]
  },
  {
   "cell_type": "code",
   "execution_count": 6,
   "metadata": {
    "collapsed": false
   },
   "outputs": [],
   "source": [
    "def vizDCtimeSeriesVariation(idatum, itime):\n",
    "#     idatum = 0\n",
    "    figsize(8,6)\n",
    "    fig = plt.figure()\n",
    "    ax1 = plt.subplot(211)\n",
    "    ax2 = plt.subplot(212)    \n",
    "#     ax1.plot(mid, dz, '.')\n",
    "    itime_ref = 790\n",
    "    DATA_ref = DATA[:,itime_ref]\n",
    "    grid_rho = griddata(mid, dz, DATA[:,itime]/DATA_ref, grid_x, grid_z, interp='linear')\n",
    "    grid_rho = grid_rho.reshape(grid_x.shape)\n",
    "    vmin, vmax = 0.9, 1.1\n",
    "    ax1.contourf(grid_x, grid_z, grid_rho, 100, vmin =vmin, vmax = vmax, clim=(vmin, vmax), cmap=\"jet\")    \n",
    "    ax1.contourf(grid_x, grid_z, grid_rho, 100, vmin =vmin, vmax = vmax, clim=(vmin, vmax), cmap=\"jet\")        \n",
    "    ax1.scatter(mid, dz, s=20, c = DATA[:,itime]/DATA_ref, edgecolor=\"None\", vmin =vmin, vmax = vmax, clim=(vmin, vmax))\n",
    "#     ax1.plot(grid_x.flatten(), grid_z.flatten(), 'k.')\n",
    "    ax1.plot(mid[idatum], dz[idatum], 'ro')    \n",
    "    ax2.plot(DATA[idatum,:], 'k-', lw=2)\n",
    "    ax2.set_yscale('log')\n",
    "    vmin, vmax = 50., 200.\n",
    "    ax2.set_ylim(vmin, vmax)\n",
    "    ax2_1 = ax2.twinx()\n",
    "    ax2_1.plot(height)\n",
    "    ax2_1.set_ylim(15, 21.)\n",
    "    ax2_1.plot(np.r_[itime, itime], np.r_[15, 21.], 'k--', lw=1)\n",
    "    ax1.text(0,0, fnames[itime])"
   ]
  },
  {
   "cell_type": "code",
   "execution_count": 7,
   "metadata": {
    "collapsed": false
   },
   "outputs": [
    {
     "name": "stdout",
     "output_type": "stream",
     "text": [
      "20150103180000.apr\n",
      "20150106180000.apr\n",
      "20150109120000.apr\n",
      "20150112120000.apr\n",
      "20150117120000.apr\n",
      "20150120120000.apr\n",
      "20150123120000.apr\n",
      "20150126120000.apr\n",
      "20150127000000.apr\n",
      "20150129060000.apr\n",
      "20150201000000.apr\n",
      "20150204000000.apr\n",
      "20150207000000.apr\n",
      "20150209180000.apr\n",
      "20150212180000.apr\n",
      "20150215180000.apr\n",
      "20150218120000.apr\n",
      "20150221060000.apr\n",
      "20150224120000.apr\n",
      "20150227060000.apr\n",
      "20150228000000.apr\n",
      "20150302000000.apr\n",
      "20150305000000.apr\n",
      "20150308000000.apr\n",
      "20150329000000.apr\n",
      "20150401000000.apr\n",
      "20150403180000.apr\n",
      "20150404120000.apr\n",
      "20150406180000.apr\n",
      "20150409000000.apr\n",
      "20150412120000.apr\n",
      "20150415060000.apr\n",
      "20150418000000.apr\n",
      "20150421000000.apr\n",
      "20150424000000.apr\n"
     ]
    }
   ],
   "source": [
    "fnamesactive = []\n",
    "for i, fname in enumerate(fnames):\n",
    "    dat_temp,height_temp, ID = readReservoirDC_all(directory+fname)\n",
    "    if dat_temp.shape[0] == 380:        \n",
    "        DATA[:,i] = dat_temp[:,-1]\n",
    "        height[i] = height_temp[0]      \n",
    "#         print fname        \n",
    "        fnamesactive.append(fname)\n",
    "    else:\n",
    "        print fname"
   ]
  },
  {
   "cell_type": "code",
   "execution_count": 8,
   "metadata": {
    "collapsed": true
   },
   "outputs": [],
   "source": [
    "a = ['1', '2', '3']"
   ]
  },
  {
   "cell_type": "code",
   "execution_count": 9,
   "metadata": {
    "collapsed": false
   },
   "outputs": [],
   "source": [
    "def strtofloat(input):\n",
    "    temp = \"\"\n",
    "    for i in input:\n",
    "        temp += i \n",
    "    return float(temp)\n"
   ]
  },
  {
   "cell_type": "code",
   "execution_count": 10,
   "metadata": {
    "collapsed": false
   },
   "outputs": [],
   "source": [
    "# dat_temp,height_temp, datalist = readReservoirDC_all(fnames[79])\n",
    "# print fnames[79]\n",
    "# # datalist = readReservoirDC_all(fnames[79])"
   ]
  },
  {
   "cell_type": "code",
   "execution_count": 11,
   "metadata": {
    "collapsed": false
   },
   "outputs": [
    {
     "name": "stdout",
     "output_type": "stream",
     "text": [
      "20150120120000.apr\n"
     ]
    }
   ],
   "source": [
    "print fnames[79]"
   ]
  },
  {
   "cell_type": "code",
   "execution_count": 12,
   "metadata": {
    "collapsed": false
   },
   "outputs": [],
   "source": [
    "locs = dat_temp[:,:4]"
   ]
  },
  {
   "cell_type": "code",
   "execution_count": 13,
   "metadata": {
    "collapsed": false
   },
   "outputs": [],
   "source": [
    "mida = locs[:,:2].sum(axis=1)\n",
    "midb = locs[:,2:].sum(axis=1)\n",
    "mid = (mida + midb)*0.5\n",
    "dz = mida-midb"
   ]
  },
  {
   "cell_type": "code",
   "execution_count": 14,
   "metadata": {
    "collapsed": true
   },
   "outputs": [],
   "source": [
    "from ipywidgets import interact, IntSlider"
   ]
  },
  {
   "cell_type": "code",
   "execution_count": 15,
   "metadata": {
    "collapsed": true
   },
   "outputs": [],
   "source": [
    "from scipy import interpolate"
   ]
  },
  {
   "cell_type": "code",
   "execution_count": 16,
   "metadata": {
    "collapsed": false
   },
   "outputs": [],
   "source": [
    "x = np.linspace(mid.min(), mid.max(), 100)\n",
    "z = np.linspace(dz.min(), dz.max(), 100)\n",
    "# grid_x, grid_z = np.mgrid[np.min(mid):np.max(mid), np.min(dz):np.max(dz)]\n",
    "grid_x, grid_z = np.meshgrid(x,z)\n",
    "\n",
    "def vizDCtimeSeries(idatum, itime):\n",
    "#     idatum = 0\n",
    "    figsize(8,6)\n",
    "    fig = plt.figure()\n",
    "    ax1 = plt.subplot(211)\n",
    "    ax2 = plt.subplot(212)    \n",
    "#     ax1.plot(mid, dz, '.')\n",
    "\n",
    "    grid_rho = griddata(mid, dz, DATA[:,itime], grid_x, grid_z, interp='linear')\n",
    "    grid_rho = grid_rho.reshape(grid_x.shape)\n",
    "    vmin, vmax = 50, 200.\n",
    "    ax1.contourf(grid_x, grid_z, grid_rho, 100, vmin =vmin, vmax = vmax, clim=(vmin, vmax), cmap=\"jet\")    \n",
    "    ax1.contourf(grid_x, grid_z, grid_rho, 100, vmin =vmin, vmax = vmax, clim=(vmin, vmax), cmap=\"jet\")        \n",
    "    ax1.scatter(mid, dz, s=20, c = DATA[:,itime], edgecolor=\"None\", vmin =vmin, vmax = vmax, clim=(vmin, vmax))\n",
    "#     ax1.plot(grid_x.flatten(), grid_z.flatten(), 'k.')\n",
    "    ax1.plot(mid[idatum], dz[idatum], 'ro')    \n",
    "    ax2.plot(DATA[idatum,:], 'k-', lw=2)\n",
    "    ax2.set_yscale('log')\n",
    "    ax2.set_ylim(vmin, vmax)\n",
    "    ax2_1 = ax2.twinx()\n",
    "    ax2_1.plot(height)\n",
    "    ax2_1.set_ylim(15, 21.)\n",
    "    ax2_1.plot(np.r_[itime, itime], np.r_[15, 21.], 'k--', lw=1)\n",
    "    ax1.text(0,0, fnames[itime])"
   ]
  },
  {
   "cell_type": "code",
   "execution_count": 17,
   "metadata": {
    "collapsed": false
   },
   "outputs": [
    {
     "data": {
      "text/plain": [
       "<function __main__.vizDCtimeSeries>"
      ]
     },
     "execution_count": 17,
     "metadata": {},
     "output_type": "execute_result"
    },
    {
     "name": "stderr",
     "output_type": "stream",
     "text": [
      "/Users/sgkang/anaconda2/lib/python2.7/site-packages/matplotlib/scale.py:101: RuntimeWarning: invalid value encountered in less_equal\n",
      "  a[a <= 0.0] = 1e-300\n"
     ]
    },
    {
     "data": {
      "image/png": "[encoded data removed]",
      "text/plain": [
       "<matplotlib.figure.Figure at 0x10d45c610>"
      ]
     },
     "metadata": {},
     "output_type": "display_data"
    }
   ],
   "source": [
    "interact(vizDCtimeSeries, idatum=IntSlider(min=0, max=300, step=10, value=0), \n",
    "        itime=IntSlider(min=0, max=DATA.shape[1]-1, step=100, value=0))"
   ]
  },
  {
   "cell_type": "code",
   "execution_count": null,
   "metadata": {
    "collapsed": true
   },
   "outputs": [],
   "source": []
  },
  {
   "cell_type": "code",
   "execution_count": null,
   "metadata": {
    "collapsed": true
   },
   "outputs": [],
   "source": []
  },
  {
   "cell_type": "code",
   "execution_count": 18,
   "metadata": {
    "collapsed": false
   },
   "outputs": [
    {
     "data": {
      "text/plain": [
       "<function __main__.vizDCtimeSeriesVariation>"
      ]
     },
     "execution_count": 18,
     "metadata": {},
     "output_type": "execute_result"
    },
    {
     "data": {
      "image/png": "[encoded data removed]",
      "text/plain": [
       "<matplotlib.figure.Figure at 0x111e73210>"
      ]
     },
     "metadata": {},
     "output_type": "display_data"
    }
   ],
   "source": [
    "interact(vizDCtimeSeriesVariation, idatum=IntSlider(min=0, max=300, step=1, value=0), \n",
    "        itime=IntSlider(min=0, max=DATA.shape[1]-1, step=20, value=0))"
   ]
  },
  {
   "cell_type": "code",
   "execution_count": 19,
   "metadata": {
    "collapsed": false
   },
   "outputs": [
    {
     "data": {
      "text/plain": [
       "(380, 1270)"
      ]
     },
     "execution_count": 19,
     "metadata": {},
     "output_type": "execute_result"
    }
   ],
   "source": [
    "DATA.shape"
   ]
  },
  {
   "cell_type": "code",
   "execution_count": 20,
   "metadata": {
    "collapsed": true
   },
   "outputs": [],
   "source": [
    "x = np.linspace(mid.min(), mid.max(), 100)\n",
    "z = np.linspace(dz.min(), dz.max(), 40)"
   ]
  },
  {
   "cell_type": "code",
   "execution_count": 21,
   "metadata": {
    "collapsed": false
   },
   "outputs": [
    {
     "name": "stdout",
     "output_type": "stream",
     "text": [
      "-18.0 -4.0\n",
      "5.0 105.0\n"
     ]
    }
   ],
   "source": [
    "print z.min(), z.max()\n",
    "print x.min(), x.max()"
   ]
  },
  {
   "cell_type": "code",
   "execution_count": 22,
   "metadata": {
    "collapsed": false
   },
   "outputs": [
    {
     "data": {
      "text/plain": [
       "array([ 1.01010101,  1.01010101,  1.01010101,  1.01010101,  1.01010101,\n",
       "        1.01010101,  1.01010101,  1.01010101,  1.01010101,  1.01010101,\n",
       "        1.01010101,  1.01010101,  1.01010101,  1.01010101,  1.01010101,\n",
       "        1.01010101,  1.01010101,  1.01010101,  1.01010101,  1.01010101,\n",
       "        1.01010101,  1.01010101,  1.01010101,  1.01010101,  1.01010101,\n",
       "        1.01010101,  1.01010101,  1.01010101,  1.01010101,  1.01010101,\n",
       "        1.01010101,  1.01010101,  1.01010101,  1.01010101,  1.01010101,\n",
       "        1.01010101,  1.01010101,  1.01010101,  1.01010101,  1.01010101,\n",
       "        1.01010101,  1.01010101,  1.01010101,  1.01010101,  1.01010101,\n",
       "        1.01010101,  1.01010101,  1.01010101,  1.01010101,  1.01010101,\n",
       "        1.01010101,  1.01010101,  1.01010101,  1.01010101,  1.01010101,\n",
       "        1.01010101,  1.01010101,  1.01010101,  1.01010101,  1.01010101,\n",
       "        1.01010101,  1.01010101,  1.01010101,  1.01010101,  1.01010101,\n",
       "        1.01010101,  1.01010101,  1.01010101,  1.01010101,  1.01010101,\n",
       "        1.01010101,  1.01010101,  1.01010101,  1.01010101,  1.01010101,\n",
       "        1.01010101,  1.01010101,  1.01010101,  1.01010101,  1.01010101,\n",
       "        1.01010101,  1.01010101,  1.01010101,  1.01010101,  1.01010101,\n",
       "        1.01010101,  1.01010101,  1.01010101,  1.01010101,  1.01010101,\n",
       "        1.01010101,  1.01010101,  1.01010101,  1.01010101,  1.01010101,\n",
       "        1.01010101,  1.01010101,  1.01010101,  1.01010101])"
      ]
     },
     "execution_count": 22,
     "metadata": {},
     "output_type": "execute_result"
    }
   ],
   "source": [
    "np.diff(x)"
   ]
  },
  {
   "cell_type": "code",
   "execution_count": 23,
   "metadata": {
    "collapsed": true
   },
   "outputs": [],
   "source": [
    "from SimPEG import Mesh\n",
    "from scipy import interpolate"
   ]
  },
  {
   "cell_type": "code",
   "execution_count": 24,
   "metadata": {
    "collapsed": false
   },
   "outputs": [],
   "source": [
    "hx = np.ones(110)*1.\n",
    "hz = np.ones(40)*0.5\n",
    "mesh2D = Mesh.TensorMesh([hx,hz], x0 = '0N')"
   ]
  },
  {
   "cell_type": "code",
   "execution_count": 25,
   "metadata": {
    "collapsed": false
   },
   "outputs": [
    {
     "data": {
      "text/plain": [
       "203"
      ]
     },
     "execution_count": 25,
     "metadata": {},
     "output_type": "execute_result"
    }
   ],
   "source": [
    "len(range(90,900,4))"
   ]
  },
  {
   "cell_type": "code",
   "execution_count": 26,
   "metadata": {
    "collapsed": false
   },
   "outputs": [],
   "source": [
    "# fnamesfinal = []\n",
    "# for ind in timeind:\n",
    "#     fnamesfinal.append(fnamesactive[ind])"
   ]
  },
  {
   "cell_type": "code",
   "execution_count": 27,
   "metadata": {
    "collapsed": false
   },
   "outputs": [
    {
     "name": "stdout",
     "output_type": "stream",
     "text": [
      "reference data 20150819180000.apr\n",
      "0\n",
      "4\n",
      "8\n",
      "12\n",
      "16\n",
      "20\n",
      "24\n",
      "28\n",
      "32\n",
      "36\n",
      "40\n",
      "44\n",
      "48\n",
      "52\n",
      "56\n",
      "60\n",
      "64\n",
      "68\n",
      "72\n",
      "76\n",
      "80\n",
      "84\n",
      "88\n",
      "92\n",
      "96\n",
      "100\n",
      "104\n",
      "108\n",
      "112\n",
      "116\n",
      "120\n",
      "124\n",
      "128\n",
      "132\n",
      "136\n",
      "140\n",
      "144\n",
      "148\n",
      "152\n",
      "156\n",
      "160\n",
      "164\n",
      "168\n",
      "172\n",
      "176\n",
      "180\n",
      "184\n",
      "188\n",
      "192\n",
      "196\n",
      "200\n",
      "204\n",
      "208\n",
      "212\n",
      "216\n",
      "220\n",
      "224\n",
      "228\n",
      "232\n",
      "236\n",
      "240\n",
      "244\n",
      "248\n",
      "252\n",
      "256\n",
      "260\n",
      "264\n",
      "268\n",
      "272\n",
      "276\n",
      "280\n",
      "284\n",
      "288\n",
      "292\n",
      "296\n",
      "300\n",
      "304\n",
      "308\n",
      "312\n",
      "316\n",
      "320\n",
      "324\n",
      "328\n",
      "332\n",
      "336\n",
      "340\n",
      "344\n",
      "348\n",
      "352\n",
      "356\n",
      "360\n",
      "364\n",
      "368\n",
      "372\n",
      "376\n",
      "380\n",
      "384\n",
      "388\n",
      "392\n",
      "396\n",
      "400\n",
      "404\n",
      "408\n",
      "412\n",
      "416\n",
      "420\n",
      "424\n",
      "428\n",
      "432\n",
      "436\n",
      "440\n",
      "444\n",
      "448\n",
      "452\n",
      "456\n",
      "460\n",
      "464\n",
      "468\n",
      "472\n",
      "476\n",
      "480\n",
      "484\n",
      "488\n",
      "492\n",
      "496\n",
      "500\n",
      "504\n",
      "508\n",
      "512\n",
      "516\n",
      "520\n",
      "524\n",
      "528\n",
      "532\n",
      "536\n",
      "540\n",
      "544\n",
      "548\n",
      "552\n",
      "556\n",
      "560\n",
      "564\n",
      "568\n",
      "572\n",
      "576\n",
      "580\n",
      "584\n",
      "588\n",
      "592\n",
      "596\n",
      "600\n",
      "604\n",
      "608\n",
      "612\n",
      "616\n",
      "620\n",
      "624\n",
      "628\n",
      "632\n",
      "636\n",
      "640\n",
      "644\n",
      "648\n",
      "652\n",
      "656\n",
      "660\n",
      "664\n",
      "668\n",
      "672\n",
      "676\n",
      "680\n",
      "684\n",
      "688\n",
      "692\n",
      "696\n",
      "700\n",
      "704\n",
      "708\n",
      "712\n",
      "716\n",
      "720\n",
      "724\n",
      "728\n",
      "732\n",
      "736\n",
      "740\n",
      "744\n",
      "748\n",
      "752\n",
      "756\n",
      "760\n",
      "764\n",
      "768\n",
      "772\n",
      "776\n",
      "780\n",
      "784\n",
      "788\n",
      "792\n",
      "796\n",
      "800\n",
      "804\n",
      "808\n",
      "812\n",
      "816\n",
      "820\n",
      "824\n",
      "828\n",
      "832\n",
      "836\n",
      "840\n",
      "844\n",
      "848\n",
      "852\n",
      "856\n",
      "860\n",
      "864\n",
      "868\n",
      "872\n",
      "876\n",
      "880\n",
      "884\n",
      "888\n",
      "892\n",
      "896\n",
      "900\n",
      "904\n",
      "908\n",
      "912\n",
      "916\n",
      "920\n",
      "924\n",
      "928\n",
      "932\n",
      "936\n",
      "940\n",
      "944\n",
      "948\n",
      "952\n",
      "956\n",
      "960\n",
      "964\n",
      "968\n",
      "972\n",
      "976\n",
      "980\n",
      "984\n",
      "988\n",
      "992\n",
      "996\n",
      "1000\n",
      "1004\n",
      "1008\n",
      "1012\n",
      "1016\n",
      "1020\n",
      "1024\n",
      "1028\n",
      "1032\n",
      "1036\n",
      "1040\n",
      "1044\n",
      "1048\n",
      "1052\n",
      "1056\n",
      "1060\n",
      "1064\n",
      "1068\n",
      "1072\n",
      "1076\n",
      "1080\n",
      "1084\n",
      "1088\n",
      "1092\n",
      "1096\n",
      "1100\n",
      "1104\n",
      "1108\n",
      "1112\n",
      "1116\n",
      "1120\n",
      "1124\n",
      "1128\n",
      "1132\n",
      "1136\n",
      "1140\n",
      "1144\n",
      "1148\n",
      "1152\n",
      "1156\n",
      "1160\n",
      "1164\n",
      "1168\n",
      "1172\n",
      "1176\n",
      "1180\n",
      "1184\n",
      "1188\n",
      "1192\n",
      "1196\n"
     ]
    }
   ],
   "source": [
    "timeind = range(0,1200,4)\n",
    "hy = np.ones(len(timeind))\n",
    "mesh = Mesh.TensorMesh([hx,hy,hz], x0 = '00N')\n",
    "itime_ref = 790\n",
    "DATA_ref = DATA[:,itime_ref]\n",
    "print \"reference data\", fnamesactive[itime_ref]\n",
    "# model = np.zeros((mesh2D.nC,len(timeind)))\n",
    "# model_ratio = model.copy()\n",
    "MODEL = np.zeros((mesh.nCx, mesh.nCy, mesh.nCz))\n",
    "MODEL_ratio = np.zeros((mesh.nCx, mesh.nCy, mesh.nCz))\n",
    "for i, itime in enumerate(timeind) :\n",
    "    print itime\n",
    "    F = interpolate.LinearNDInterpolator(np.c_[mid, dz], DATA[:,itime])\n",
    "    F_ratio = interpolate.LinearNDInterpolator(np.c_[mid, dz], (DATA[:,itime]-DATA_ref)/abs(DATA_ref))\n",
    "    MODEL[:,i,:] = F(mesh2D.gridCC).reshape((mesh.nCx, mesh.nCz), order=\"F\")\n",
    "    MODEL_ratio[:,i,:] = F_ratio(mesh2D.gridCC).reshape((mesh.nCx, mesh.nCz), order=\"F\")"
   ]
  },
  {
   "cell_type": "code",
   "execution_count": 28,
   "metadata": {
    "collapsed": false
   },
   "outputs": [
    {
     "data": {
      "text/plain": [
       "(110, 300, 40)"
      ]
     },
     "execution_count": 28,
     "metadata": {},
     "output_type": "execute_result"
    }
   ],
   "source": [
    "MODEL.shape"
   ]
  },
  {
   "cell_type": "code",
   "execution_count": 29,
   "metadata": {
    "collapsed": true
   },
   "outputs": [],
   "source": [
    "from SimPEG import Utils"
   ]
  },
  {
   "cell_type": "code",
   "execution_count": 30,
   "metadata": {
    "collapsed": true
   },
   "outputs": [],
   "source": [
    "Model = Utils.mkvc(MODEL[:,:,:])\n",
    "Model_ratio = Utils.mkvc(MODEL_ratio[:,:,:])"
   ]
  },
  {
   "cell_type": "code",
   "execution_count": 31,
   "metadata": {
    "collapsed": true
   },
   "outputs": [],
   "source": [
    "Model[np.isnan(Model)] = -100\n",
    "Model_ratio[np.isnan(Model_ratio)] = -100"
   ]
  },
  {
   "cell_type": "code",
   "execution_count": 36,
   "metadata": {
    "collapsed": false
   },
   "outputs": [
    {
     "data": {
      "text/plain": [
       "array([-100., -100., -100., ..., -100., -100., -100.])"
      ]
     },
     "execution_count": 36,
     "metadata": {},
     "output_type": "execute_result"
    }
   ],
   "source": [
    "Model"
   ]
  },
  {
   "cell_type": "code",
   "execution_count": 32,
   "metadata": {
    "collapsed": false
   },
   "outputs": [],
   "source": [
    "# mesh.writeModelUBC(\"/Users/sgkang/Dropbox/dammodel.txt\", Model)\n",
    "# mesh.writeModelUBC(\"/Users/sgkang/Dropbox/dammodel_ratio.txt\", Model_ratio)\n",
    "# mesh.writeUBC(\"/Users/sgkang/Dropbox/dammodel_mesh.txt\")\n",
    "# # mesh.writeModelUBC(\"dammodel.txt\", Model)\n",
    "# # mesh.writeModelUBC(\"dammodel_ratio.txt\", Model_ratio)\n",
    "# # mesh.writeUBC(\"dammodel_mesh.txt\")"
   ]
  },
  {
   "cell_type": "code",
   "execution_count": 33,
   "metadata": {
    "collapsed": true
   },
   "outputs": [],
   "source": [
    "mesh.writeVTK(\"dammodel\", models={\"data\":Model, \"data_ratio\":Model_ratio})"
   ]
  },
  {
   "cell_type": "code",
   "execution_count": 35,
   "metadata": {
    "collapsed": false
   },
   "outputs": [],
   "source": [
    "# iloc = 0\n",
    "# fnamesfinal[iloc]"
   ]
  },
  {
   "cell_type": "code",
   "execution_count": null,
   "metadata": {
    "collapsed": false
   },
   "outputs": [],
   "source": [
    "plot(Model)"
   ]
  },
  {
   "cell_type": "code",
   "execution_count": null,
   "metadata": {
    "collapsed": true
   },
   "outputs": [],
   "source": []
  },
  {
   "cell_type": "code",
   "execution_count": null,
   "metadata": {
    "collapsed": false
   },
   "outputs": [],
   "source": [
    "mesh.plotSlice(Model, clim=(50., 200.))"
   ]
  },
  {
   "cell_type": "code",
   "execution_count": null,
   "metadata": {
    "collapsed": true
   },
   "outputs": [],
   "source": []
  },
  {
   "cell_type": "code",
   "execution_count": null,
   "metadata": {
    "collapsed": false
   },
   "outputs": [],
   "source": [
    "dzu = np.unique(dz)"
   ]
  },
  {
   "cell_type": "code",
   "execution_count": null,
   "metadata": {
    "collapsed": true
   },
   "outputs": [],
   "source": [
    "def profile_time(i_n, color):\n",
    "    figsize(6,3)\n",
    "    ind = np.argwhere(dz == dzu[::-1][i_n])\n",
    "    nskip = 5\n",
    "    for i in range(0,ind.size,nskip):\n",
    "        plt.semilogy(DATA[ind.flatten()[i],:], color)\n",
    "        plt.tight_layout()\n",
    "    plt.ylim(50, 200)    \n"
   ]
  },
  {
   "cell_type": "code",
   "execution_count": null,
   "metadata": {
    "collapsed": false
   },
   "outputs": [],
   "source": [
    "colors = ['k', 'b', 'r', 'g']\n",
    "inds = [0, 2, 4, 6]\n",
    "for i, ind in enumerate(inds):\n",
    "    profile_time(ind,colors[i])"
   ]
  },
  {
   "cell_type": "code",
   "execution_count": null,
   "metadata": {
    "collapsed": false
   },
   "outputs": [],
   "source": [
    "profile_time(0, 'k')"
   ]
  },
  {
   "cell_type": "code",
   "execution_count": null,
   "metadata": {
    "collapsed": false
   },
   "outputs": [],
   "source": [
    "profile_time(2, 'k')"
   ]
  },
  {
   "cell_type": "code",
   "execution_count": null,
   "metadata": {
    "collapsed": false
   },
   "outputs": [],
   "source": [
    "profile_time(3, 'k')"
   ]
  },
  {
   "cell_type": "code",
   "execution_count": null,
   "metadata": {
    "collapsed": false
   },
   "outputs": [],
   "source": [
    "profile_time(4, 'k')"
   ]
  },
  {
   "cell_type": "code",
   "execution_count": null,
   "metadata": {
    "collapsed": false
   },
   "outputs": [],
   "source": [
    "profile_time(5, 'k')"
   ]
  },
  {
   "cell_type": "code",
   "execution_count": null,
   "metadata": {
    "collapsed": false
   },
   "outputs": [],
   "source": [
    "profile_time(6, 'k')"
   ]
  },
  {
   "cell_type": "code",
   "execution_count": null,
   "metadata": {
    "collapsed": false
   },
   "outputs": [],
   "source": [
    "profile_time(7, 'k')"
   ]
  },
  {
   "cell_type": "code",
   "execution_count": null,
   "metadata": {
    "collapsed": true
   },
   "outputs": [],
   "source": []
  },
  {
   "cell_type": "code",
   "execution_count": null,
   "metadata": {
    "collapsed": true
   },
   "outputs": [],
   "source": []
  }
 ],
 "metadata": {
  "anaconda-cloud": {},
  "kernelspec": {
   "display_name": "Python [default]",
   "language": "python",
   "name": "python2"
  },
  "widgets": {
   "state": {
    "2b7522fbb9e94e778c63c6cbc832510c": {
     "views": [
      {
       "cell_index": 16
      }
     ]
    },
    "d11c913c2fbe45b19390d539c84efce6": {
     "views": [
      {
       "cell_index": 19
      }
     ]
    }
   },
   "version": "1.2.0"
  }
 },
 "nbformat": 4,
 "nbformat_minor": 0
}
