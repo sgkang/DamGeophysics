{
 "cells": [
  {
   "cell_type": "code",
   "execution_count": 9,
   "metadata": {
    "collapsed": false
   },
   "outputs": [
    {
     "name": "stdout",
     "output_type": "stream",
     "text": [
      "Populating the interactive namespace from numpy and matplotlib\n"
     ]
    }
   ],
   "source": [
    "import sys\n",
    "sys.path.append(\"../codes/\")\n",
    "from Readfiles import getFnames\n",
    "from DCdata import readReservoirDC_all\n",
    "%pylab inline"
   ]
  },
  {
   "cell_type": "code",
   "execution_count": 10,
   "metadata": {
    "collapsed": false
   },
   "outputs": [],
   "source": [
    "directory = \"../data/ChungCheonDC/20151218000000.apr\""
   ]
  },
  {
   "cell_type": "code",
   "execution_count": 11,
   "metadata": {
    "collapsed": false
   },
   "outputs": [],
   "source": [
    "fnames = getFnames(directory, dtype=\"apr\", minimumsize=7000.)"
   ]
  },
  {
   "cell_type": "code",
   "execution_count": 12,
   "metadata": {
    "collapsed": false
   },
   "outputs": [
    {
     "ename": "IOError",
     "evalue": "[Errno 2] No such file or directory: '20150101000000.apr'",
     "output_type": "error",
     "traceback": [
      "\u001b[0;31m---------------------------------------------------------------------------\u001b[0m",
      "\u001b[0;31mIOError\u001b[0m                                   Traceback (most recent call last)",
      "\u001b[0;32m<ipython-input-12-b2f6aa8d8579>\u001b[0m in \u001b[0;36m<module>\u001b[0;34m()\u001b[0m\n\u001b[1;32m      1\u001b[0m \u001b[0mfname_temp\u001b[0m \u001b[0;34m=\u001b[0m \u001b[0mfnames\u001b[0m\u001b[0;34m[\u001b[0m\u001b[0;36m0\u001b[0m\u001b[0;34m]\u001b[0m\u001b[0;34m\u001b[0m\u001b[0m\n\u001b[0;32m----> 2\u001b[0;31m \u001b[0mdat_temp\u001b[0m\u001b[0;34m,\u001b[0m\u001b[0mheight_temp\u001b[0m \u001b[0;34m=\u001b[0m \u001b[0mreadReservoirDC_all\u001b[0m\u001b[0;34m(\u001b[0m\u001b[0mfname_temp\u001b[0m\u001b[0;34m)\u001b[0m\u001b[0;34m\u001b[0m\u001b[0m\n\u001b[0m",
      "\u001b[0;32m/Users/sklim/Projects/DamGeophysics/codes/DCdata.pyc\u001b[0m in \u001b[0;36mreadReservoirDC_all\u001b[0;34m(fname)\u001b[0m\n\u001b[1;32m     37\u001b[0m \u001b[0;34m\u001b[0m\u001b[0m\n\u001b[1;32m     38\u001b[0m \u001b[0;32mdef\u001b[0m \u001b[0mreadReservoirDC_all\u001b[0m\u001b[0;34m(\u001b[0m\u001b[0mfname\u001b[0m\u001b[0;34m)\u001b[0m\u001b[0;34m:\u001b[0m\u001b[0;34m\u001b[0m\u001b[0m\n\u001b[0;32m---> 39\u001b[0;31m     \u001b[0mf\u001b[0m \u001b[0;34m=\u001b[0m \u001b[0mopen\u001b[0m\u001b[0;34m(\u001b[0m\u001b[0mfname\u001b[0m\u001b[0;34m,\u001b[0m \u001b[0;34m'r'\u001b[0m\u001b[0;34m)\u001b[0m\u001b[0;34m\u001b[0m\u001b[0m\n\u001b[0m\u001b[1;32m     40\u001b[0m     \u001b[0mdata\u001b[0m \u001b[0;34m=\u001b[0m \u001b[0mf\u001b[0m\u001b[0;34m.\u001b[0m\u001b[0mreadlines\u001b[0m\u001b[0;34m(\u001b[0m\u001b[0;34m)\u001b[0m\u001b[0;34m\u001b[0m\u001b[0m\n\u001b[1;32m     41\u001b[0m     \u001b[0mtemp\u001b[0m \u001b[0;34m=\u001b[0m \u001b[0mdata\u001b[0m\u001b[0;34m[\u001b[0m\u001b[0;36m3\u001b[0m\u001b[0;34m]\u001b[0m\u001b[0;34m.\u001b[0m\u001b[0msplit\u001b[0m\u001b[0;34m(\u001b[0m\u001b[0;34m)\u001b[0m\u001b[0;34m\u001b[0m\u001b[0m\n",
      "\u001b[0;31mIOError\u001b[0m: [Errno 2] No such file or directory: '20150101000000.apr'"
     ]
    }
   ],
   "source": [
    "fname_temp = fnames[0]\n",
    "dat_temp,height_temp = readReservoirDC_all(fname_temp)"
   ]
  },
  {
   "cell_type": "code",
   "execution_count": null,
   "metadata": {
    "collapsed": false
   },
   "outputs": [],
   "source": [
    "ntimes = len(fnames)\n",
    "DATA = np.zeros((dat_temp.shape[0], ntimes))*np.nan\n",
    "height = np.ones(ntimes)*np.nan"
   ]
  },
  {
   "cell_type": "code",
   "execution_count": null,
   "metadata": {
    "collapsed": false
   },
   "outputs": [],
   "source": [
    "DATA.shape"
   ]
  },
  {
   "cell_type": "code",
   "execution_count": null,
   "metadata": {
    "collapsed": false
   },
   "outputs": [],
   "source": [
    "for i, fname in enumerate(fnames):\n",
    "    dat_temp,height_temp = readReservoirDC_all(fname)\n",
    "    if dat_temp.shape[0] == 380:        \n",
    "        DATA[:,i] = dat_temp[:,-1]\n",
    "        height[i] = height_temp[0]      \n",
    "    else:\n",
    "        print fname"
   ]
  },
  {
   "cell_type": "code",
   "execution_count": null,
   "metadata": {
    "collapsed": true
   },
   "outputs": [],
   "source": [
    "a = ['1', '2', '3']"
   ]
  },
  {
   "cell_type": "code",
   "execution_count": null,
   "metadata": {
    "collapsed": false
   },
   "outputs": [],
   "source": [
    "def strtofloat(input):\n",
    "    temp = \"\"\n",
    "    for i in input:\n",
    "        temp += i \n",
    "    return float(temp)\n"
   ]
  },
  {
   "cell_type": "code",
   "execution_count": null,
   "metadata": {
    "collapsed": false
   },
   "outputs": [],
   "source": [
    "# dat_temp,height_temp, datalist = readReservoirDC_all(fnames[79])\n",
    "# print fnames[79]\n",
    "# # datalist = readReservoirDC_all(fnames[79])"
   ]
  },
  {
   "cell_type": "code",
   "execution_count": null,
   "metadata": {
    "collapsed": false
   },
   "outputs": [],
   "source": [
    "print fnames[79]"
   ]
  },
  {
   "cell_type": "code",
   "execution_count": null,
   "metadata": {
    "collapsed": false
   },
   "outputs": [],
   "source": [
    "locs = dat_temp[:,:4]"
   ]
  },
  {
   "cell_type": "code",
   "execution_count": null,
   "metadata": {
    "collapsed": false
   },
   "outputs": [],
   "source": [
    "mida = locs[:,:2].sum(axis=1)\n",
    "midb = locs[:,2:].sum(axis=1)\n",
    "mid = (mida + midb)*0.5\n",
    "dz = mida-midb"
   ]
  },
  {
   "cell_type": "code",
   "execution_count": null,
   "metadata": {
    "collapsed": true
   },
   "outputs": [],
   "source": [
    "from ipywidgets import interact, IntSlider"
   ]
  },
  {
   "cell_type": "code",
   "execution_count": null,
   "metadata": {
    "collapsed": true
   },
   "outputs": [],
   "source": [
    "from scipy import interpolate"
   ]
  },
  {
   "cell_type": "code",
   "execution_count": null,
   "metadata": {
    "collapsed": false
   },
   "outputs": [],
   "source": [
    "x = np.linspace(mid.min(), mid.max(), 100)\n",
    "z = np.linspace(dz.min(), dz.max(), 100)\n",
    "# grid_x, grid_z = np.mgrid[np.min(mid):np.max(mid), np.min(dz):np.max(dz)]\n",
    "grid_x, grid_z = np.meshgrid(x,z)\n",
    "\n",
    "def vizDCtimeSeries(idatum, itime):\n",
    "#     idatum = 0\n",
    "    figsize(8,6)\n",
    "    fig = plt.figure()\n",
    "    ax1 = plt.subplot(211)\n",
    "    ax2 = plt.subplot(212)    \n",
    "#     ax1.plot(mid, dz, '.')\n",
    "\n",
    "    grid_rho = griddata(mid, dz, DATA[:,itime], grid_x, grid_z, interp='linear')\n",
    "    grid_rho = grid_rho.reshape(grid_x.shape)\n",
    "    vmin, vmax = 50, 200.\n",
    "    ax1.contourf(grid_x, grid_z, grid_rho, 100, vmin =vmin, vmax = vmax, clim=(vmin, vmax), cmap=\"jet\")    \n",
    "    ax1.contourf(grid_x, grid_z, grid_rho, 100, vmin =vmin, vmax = vmax, clim=(vmin, vmax), cmap=\"jet\")        \n",
    "    ax1.scatter(mid, dz, s=20, c = DATA[:,itime], edgecolor=\"None\", vmin =vmin, vmax = vmax, clim=(vmin, vmax))\n",
    "#     ax1.plot(grid_x.flatten(), grid_z.flatten(), 'k.')\n",
    "    ax1.plot(mid[idatum], dz[idatum], 'ro')    \n",
    "    ax2.plot(DATA[idatum,:], 'k-', lw=2)\n",
    "    ax2.set_yscale('log')\n",
    "    ax2.set_ylim(vmin, vmax)\n",
    "    ax2_1 = ax2.twinx()\n",
    "    ax2_1.plot(height)\n",
    "    ax2_1.set_ylim(15, 21.)\n",
    "    ax2_1.plot(np.r_[itime, itime], np.r_[15, 21.], 'k--', lw=1)\n",
    "    ax1.text(0,0, fnames[itime])"
   ]
  },
  {
   "cell_type": "code",
   "execution_count": null,
   "metadata": {
    "collapsed": false
   },
   "outputs": [],
   "source": [
    "interact(vizDCtimeSeries, idatum=IntSlider(min=0, max=300, step=10, value=0), \n",
    "        itime=IntSlider(min=0, max=DATA.shape[1]-1, step=100, value=0))"
   ]
  },
  {
   "cell_type": "code",
   "execution_count": null,
   "metadata": {
    "collapsed": true
   },
   "outputs": [],
   "source": []
  },
  {
   "cell_type": "code",
   "execution_count": null,
   "metadata": {
    "collapsed": true
   },
   "outputs": [],
   "source": [
    "def vizDCtimeSeriesVariation(idatum, itime):\n",
    "#     idatum = 0\n",
    "    figsize(8,6)\n",
    "    fig = plt.figure()\n",
    "    ax1 = plt.subplot(211)\n",
    "    ax2 = plt.subplot(212)    \n",
    "#     ax1.plot(mid, dz, '.')\n",
    "    itime_ref = 790\n",
    "    DATA_ref = DATA[:,itime_ref]\n",
    "    grid_rho = griddata(mid, dz, DATA[:,itime]/DATA_ref, grid_x, grid_z, interp='linear')\n",
    "    grid_rho = grid_rho.reshape(grid_x.shape)\n",
    "    vmin, vmax = 0.9, 1.1\n",
    "    ax1.contourf(grid_x, grid_z, grid_rho, 100, vmin =vmin, vmax = vmax, clim=(vmin, vmax), cmap=\"jet\")    \n",
    "    ax1.contourf(grid_x, grid_z, grid_rho, 100, vmin =vmin, vmax = vmax, clim=(vmin, vmax), cmap=\"jet\")        \n",
    "    ax1.scatter(mid, dz, s=20, c = DATA[:,itime]/DATA_ref, edgecolor=\"None\", vmin =vmin, vmax = vmax, clim=(vmin, vmax))\n",
    "#     ax1.plot(grid_x.flatten(), grid_z.flatten(), 'k.')\n",
    "    ax1.plot(mid[idatum], dz[idatum], 'ro')    \n",
    "    ax2.plot(DATA[idatum,:], 'k-', lw=2)\n",
    "    ax2.set_yscale('log')\n",
    "    vmin, vmax = 50., 200.\n",
    "    ax2.set_ylim(vmin, vmax)\n",
    "    ax2_1 = ax2.twinx()\n",
    "    ax2_1.plot(height)\n",
    "    ax2_1.set_ylim(15, 21.)\n",
    "    ax2_1.plot(np.r_[itime, itime], np.r_[15, 21.], 'k--', lw=1)\n",
    "    ax1.text(0,0, fnames[itime])"
   ]
  },
  {
   "cell_type": "code",
   "execution_count": null,
   "metadata": {
    "collapsed": false
   },
   "outputs": [],
   "source": [
    "interact(vizDCtimeSeriesVariation, idatum=IntSlider(min=0, max=300, step=10, value=0), \n",
    "        itime=IntSlider(min=0, max=DATA.shape[1]-1, step=4, value=0))"
   ]
  },
  {
   "cell_type": "code",
   "execution_count": null,
   "metadata": {
    "collapsed": false
   },
   "outputs": [],
   "source": [
    "DATA.shape"
   ]
  },
  {
   "cell_type": "code",
   "execution_count": null,
   "metadata": {
    "collapsed": true
   },
   "outputs": [],
   "source": [
    "x = np.linspace(mid.min(), mid.max(), 100)\n",
    "z = np.linspace(dz.min(), dz.max(), 40)"
   ]
  },
  {
   "cell_type": "code",
   "execution_count": null,
   "metadata": {
    "collapsed": false
   },
   "outputs": [],
   "source": [
    "print z.min(), z.max()\n",
    "print x.min(), x.max()"
   ]
  },
  {
   "cell_type": "code",
   "execution_count": null,
   "metadata": {
    "collapsed": false
   },
   "outputs": [],
   "source": [
    "np.diff(x)"
   ]
  },
  {
   "cell_type": "code",
   "execution_count": null,
   "metadata": {
    "collapsed": true
   },
   "outputs": [],
   "source": [
    "from SimPEG import Mesh\n",
    "from scipy import interpolate"
   ]
  },
  {
   "cell_type": "code",
   "execution_count": null,
   "metadata": {
    "collapsed": false
   },
   "outputs": [],
   "source": [
    "hx = np.ones(110)*1.\n",
    "hy = np.ones(40)*0.5\n",
    "mesh2D = Mesh.TensorMesh([hx,hy], x0 = '0N')\n"
   ]
  },
  {
   "cell_type": "code",
   "execution_count": null,
   "metadata": {
    "collapsed": false
   },
   "outputs": [],
   "source": [
    "len(range(90,900,4))"
   ]
  },
  {
   "cell_type": "code",
   "execution_count": null,
   "metadata": {
    "collapsed": false
   },
   "outputs": [],
   "source": [
    "timeind = range(0,1200,16)\n",
    "model = np.zeros((mesh2D.nC,len(timeind)))\n",
    "hz = np.ones(len(timeind))\n",
    "mesh = Mesh.TensorMesh([hx,hy,hz], x0 = '0N0')\n",
    "\n",
    "itime_ref = 790\n",
    "DATA_ref = DATA[:,itime_ref]\n",
    "model_ratio = model.copy()\n",
    "for i, itime in enumerate(timeind) :\n",
    "    print itime\n",
    "    F = interpolate.LinearNDInterpolator(np.c_[mid, dz], DATA[:,itime])\n",
    "    F_ratio = interpolate.LinearNDInterpolator(np.c_[mid, dz], abs(DATA[:,itime]-DATA_ref)/abs(DATA_ref))\n",
    "    model_ratio[:,i] = F_ratio(mesh2D.gridCC)\n",
    "    model[:,i] = F(mesh2D.gridCC)"
   ]
  },
  {
   "cell_type": "code",
   "execution_count": null,
   "metadata": {
    "collapsed": false
   },
   "outputs": [],
   "source": [
    "model.shape"
   ]
  },
  {
   "cell_type": "code",
   "execution_count": null,
   "metadata": {
    "collapsed": true
   },
   "outputs": [],
   "source": [
    "from SimPEG import Utils"
   ]
  },
  {
   "cell_type": "code",
   "execution_count": null,
   "metadata": {
    "collapsed": true
   },
   "outputs": [],
   "source": [
    "Model = Utils.mkvc(model[:,::-1])\n",
    "Model_ratio = Utils.mkvc(model_ratio[:,::-1])"
   ]
  },
  {
   "cell_type": "code",
   "execution_count": null,
   "metadata": {
    "collapsed": true
   },
   "outputs": [],
   "source": [
    "Model[np.isnan(Model)] = 1e-8\n",
    "Model_ratio[np.isnan(Model_ratio)] = 1e-8"
   ]
  },
  {
   "cell_type": "code",
   "execution_count": null,
   "metadata": {
    "collapsed": false
   },
   "outputs": [],
   "source": [
    "mesh.writeModelUBC(\"./dammodel.txt\", Model)\n",
    "mesh.writeModelUBC(\"./dammodel_ratio.txt\", Model_ratio)"
   ]
  },
  {
   "cell_type": "code",
   "execution_count": null,
   "metadata": {
    "collapsed": false
   },
   "outputs": [],
   "source": [
    "mesh.writeUBC(\"./dammodel_mesh.txt\")"
   ]
  },
  {
   "cell_type": "code",
   "execution_count": null,
   "metadata": {
    "collapsed": false
   },
   "outputs": [],
   "source": [
    "!dir"
   ]
  },
  {
   "cell_type": "code",
   "execution_count": null,
   "metadata": {
    "collapsed": false
   },
   "outputs": [],
   "source": [
    "plot(Model)"
   ]
  },
  {
   "cell_type": "code",
   "execution_count": null,
   "metadata": {
    "collapsed": false
   },
   "outputs": [],
   "source": [
    "mesh.plotSlice(Model, clim=(50., 200.))"
   ]
  },
  {
   "cell_type": "code",
   "execution_count": null,
   "metadata": {
    "collapsed": true
   },
   "outputs": [],
   "source": []
  },
  {
   "cell_type": "code",
   "execution_count": null,
   "metadata": {
    "collapsed": false
   },
   "outputs": [],
   "source": [
    "dzu = np.unique(dz)"
   ]
  },
  {
   "cell_type": "code",
   "execution_count": null,
   "metadata": {
    "collapsed": true
   },
   "outputs": [],
   "source": [
    "def profile_time(i_n, color):\n",
    "    figsize(6,3)\n",
    "    ind = np.argwhere(dz == dzu[::-1][i_n])\n",
    "    nskip = 5\n",
    "    for i in range(0,ind.size,nskip):\n",
    "        plt.semilogy(DATA[ind.flatten()[i],:], color)\n",
    "        plt.tight_layout()\n",
    "    plt.ylim(50, 200)    \n"
   ]
  },
  {
   "cell_type": "code",
   "execution_count": null,
   "metadata": {
    "collapsed": false
   },
   "outputs": [],
   "source": [
    "colors = ['k', 'b', 'r', 'g']\n",
    "inds = [0, 2, 4, 6]\n",
    "for i, ind in enumerate(inds):\n",
    "    profile_time(ind,colors[i])"
   ]
  },
  {
   "cell_type": "code",
   "execution_count": null,
   "metadata": {
    "collapsed": false
   },
   "outputs": [],
   "source": [
    "profile_time(0, 'k')"
   ]
  },
  {
   "cell_type": "code",
   "execution_count": null,
   "metadata": {
    "collapsed": false
   },
   "outputs": [],
   "source": [
    "profile_time(2, 'k')"
   ]
  },
  {
   "cell_type": "code",
   "execution_count": null,
   "metadata": {
    "collapsed": false
   },
   "outputs": [],
   "source": [
    "profile_time(3, 'k')"
   ]
  },
  {
   "cell_type": "code",
   "execution_count": null,
   "metadata": {
    "collapsed": false
   },
   "outputs": [],
   "source": [
    "profile_time(4, 'k')"
   ]
  },
  {
   "cell_type": "code",
   "execution_count": null,
   "metadata": {
    "collapsed": false
   },
   "outputs": [],
   "source": [
    "profile_time(5, 'k')"
   ]
  },
  {
   "cell_type": "code",
   "execution_count": null,
   "metadata": {
    "collapsed": false
   },
   "outputs": [],
   "source": [
    "profile_time(6, 'k')"
   ]
  },
  {
   "cell_type": "code",
   "execution_count": null,
   "metadata": {
    "collapsed": false
   },
   "outputs": [],
   "source": [
    "profile_time(7, 'k')"
   ]
  },
  {
   "cell_type": "code",
   "execution_count": null,
   "metadata": {
    "collapsed": true
   },
   "outputs": [],
   "source": []
  }
 ],
 "metadata": {
  "kernelspec": {
   "display_name": "Python [default]",
   "language": "python",
   "name": "python2"
  },
  "language_info": {
   "codemirror_mode": {
    "name": "ipython",
    "version": 2
   },
   "file_extension": ".py",
   "mimetype": "text/x-python",
   "name": "python",
   "nbconvert_exporter": "python",
   "pygments_lexer": "ipython2",
   "version": "2.7.12"
  }
 },
 "nbformat": 4,
 "nbformat_minor": 0
}
